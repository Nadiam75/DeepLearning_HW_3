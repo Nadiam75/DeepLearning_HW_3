{
  "cells": [
    {
      "cell_type": "code",
      "source": [
        "from google.colab import drive\n",
        "drive.mount('/content/drive')"
      ],
      "metadata": {
        "colab": {
          "base_uri": "https://localhost:8080/"
        },
        "id": "n1Q-Nag1uUNi",
        "outputId": "5fe4c20a-9e71-4c96-9870-b06f7674e529"
      },
      "execution_count": 1,
      "outputs": [
        {
          "output_type": "stream",
          "name": "stdout",
          "text": [
            "Mounted at /content/drive\n"
          ]
        }
      ]
    },
    {
      "cell_type": "code",
      "execution_count": 2,
      "metadata": {
        "id": "IpgFUi0sZlIW",
        "outputId": "d6c3640e-6177-4f73-b85d-e635b584737a",
        "colab": {
          "base_uri": "https://localhost:8080/"
        }
      },
      "outputs": [
        {
          "output_type": "stream",
          "name": "stdout",
          "text": [
            "Archive:  drive/MyDrive/trainingandtestdata.zip\n",
            "  inflating: testdata.manual.2009.06.14.csv  \n",
            "  inflating: training.1600000.processed.noemoticon.csv  \n"
          ]
        }
      ],
      "source": [
        "!unzip drive/MyDrive/trainingandtestdata.zip"
      ]
    },
    {
      "cell_type": "code",
      "source": [
        "import tensorflow as tf"
      ],
      "metadata": {
        "id": "f9ERSzT2yD8Y"
      },
      "execution_count": 72,
      "outputs": []
    },
    {
      "cell_type": "code",
      "source": [
        "from tensorflow.keras.preprocessing.text import Tokenizer\n",
        "from tensorflow.keras.layers import Embedding\n",
        "from tensorflow.keras.preprocessing.sequence import pad_sequences\n",
        "from keras.callbacks import ReduceLROnPlateau, EarlyStopping"
      ],
      "metadata": {
        "id": "9gws4mIww5eK"
      },
      "execution_count": 73,
      "outputs": []
    },
    {
      "cell_type": "code",
      "execution_count": 74,
      "metadata": {
        "id": "5i-hhmXgbI7D"
      },
      "outputs": [],
      "source": [
        "import numpy as np\n",
        "import pandas as pd\n",
        "import pickle\n",
        "from tqdm import tqdm\n",
        "import matplotlib.pyplot as plt\n",
        "import matplotlib.pyplot as plt\n",
        "from wordcloud import WordCloud\n",
        "SEQUENCE_LENGTH = 280\n",
        "pad_token = '<PAD>'\n",
        "EMBEDDING_DIM = 300"
      ]
    },
    {
      "cell_type": "code",
      "source": [
        "import itertools\n",
        "def plot_confusion_matrix(cm, classes, normalize=False, title='Confusion matrix', cmap=plt.cm.BuPu):\n",
        "    \"\"\"\n",
        "    This function prints and plots the confusion matrix.\n",
        "    Normalization can be applied by setting `normalize=True`.\n",
        "    \"\"\"\n",
        "    fig = plt.figure(figsize=(8, 8))\n",
        "    ax = plt.axes()\n",
        "    \n",
        "    ax.xaxis.set_ticks_position('top')\n",
        "    ax.xaxis.set_label_position('top')\n",
        "    plt.imshow(cm, interpolation='nearest', cmap=cmap)\n",
        "    plt.title(title)\n",
        "    plt.colorbar()\n",
        "    tick_marks = np.arange(len(classes))\n",
        "    plt.xticks(tick_marks, classes)\n",
        "    plt.yticks(tick_marks, classes)\n",
        "    if normalize:\n",
        "        cm = cm.astype('float') / cm.sum(axis=1)[:, np.newaxis]\n",
        "\n",
        "    thresh = cm.max() / 2.\n",
        "    for i, j in itertools.product(range(cm.shape[0]), range(cm.shape[1])):\n",
        "        plt.text(j, i, cm[i, j],\n",
        "                 horizontalalignment=\"center\",\n",
        "                 color=\"white\" if cm[i, j] > thresh else \"black\")\n",
        "    plt.tight_layout()\n",
        "    plt.ylabel('True label')\n",
        "    plt.xlabel('Predicted label')"
      ],
      "metadata": {
        "id": "1QZBx75-98fy"
      },
      "execution_count": 75,
      "outputs": []
    },
    {
      "cell_type": "code",
      "execution_count": 76,
      "metadata": {
        "id": "xdeKq2nTbsyX"
      },
      "outputs": [],
      "source": [
        "testData = pd.read_csv('testdata.manual.2009.06.14.csv')\n",
        "trainData = pd.read_csv('training.1600000.processed.noemoticon.csv' ,  encoding='latin-1')"
      ]
    },
    {
      "cell_type": "code",
      "execution_count": 77,
      "metadata": {
        "id": "obrV-bQMfiLk"
      },
      "outputs": [],
      "source": [
        "columnNames = ['polarity' , 'id' , 'date' , 'query' , 'user', 'text']\n",
        "trainData.columns = columnNames\n",
        "testData.columns = columnNames"
      ]
    },
    {
      "cell_type": "code",
      "execution_count": 78,
      "metadata": {
        "id": "IbXT5pf-eK9q"
      },
      "outputs": [],
      "source": [
        "testData = testData.loc[testData[\"polarity\"] != 2]"
      ]
    },
    {
      "cell_type": "code",
      "execution_count": 79,
      "metadata": {
        "id": "L-Vn99T0okWT",
        "outputId": "71dba7ca-7e8e-4d8d-d232-4182783f2ffd",
        "colab": {
          "base_uri": "https://localhost:8080/"
        }
      },
      "outputs": [
        {
          "output_type": "stream",
          "name": "stderr",
          "text": [
            "/usr/local/lib/python3.7/dist-packages/pandas/core/indexing.py:1763: SettingWithCopyWarning: \n",
            "A value is trying to be set on a copy of a slice from a DataFrame.\n",
            "Try using .loc[row_indexer,col_indexer] = value instead\n",
            "\n",
            "See the caveats in the documentation: https://pandas.pydata.org/pandas-docs/stable/user_guide/indexing.html#returning-a-view-versus-a-copy\n",
            "  isetter(loc, value)\n"
          ]
        }
      ],
      "source": [
        "testData.loc[testData['polarity'] == 4, 'polarity'] = 1"
      ]
    },
    {
      "cell_type": "code",
      "execution_count": 80,
      "metadata": {
        "id": "nXeB0urspOvT"
      },
      "outputs": [],
      "source": [
        "trainData.loc[trainData['polarity'] == 4, 'polarity'] = 1"
      ]
    },
    {
      "cell_type": "code",
      "execution_count": 81,
      "metadata": {
        "id": "feT_RESd3tGi"
      },
      "outputs": [],
      "source": [
        "# Defining dictionary containing all emojis with their meanings.\n",
        "emojis = {':)': 'smile', ':-)': 'smile', ';d': 'wink', ':-E': 'vampire', ':(': 'sad', \n",
        "          ':-(': 'sad', ':-<': 'sad', ':P': 'raspberry', ':O': 'surprised',\n",
        "          ':-@': 'shocked', ':@': 'shocked',':-$': 'confused', ':\\\\': 'annoyed', \n",
        "          ':#': 'mute', ':X': 'mute', ':^)': 'smile', ':-&': 'confused', '$_$': 'greedy',\n",
        "          '@@': 'eyeroll', ':-!': 'confused', ':-D': 'smile', ':-0': 'yell', 'O.o': 'confused',\n",
        "          '<(-_-)>': 'robot', 'd[-_-]b': 'dj', \":'-)\": 'sadsmile', ';)': 'wink', \n",
        "          ';-)': 'wink', 'O:-)': 'angel','O*-)': 'angel','(:-D': 'gossip', '=^.^=': 'cat'}\n",
        "\n",
        "## Defining set containing all stopwords in english.\n",
        "stopwordlist = ['a', 'about', 'above', 'after', 'again', 'ain', 'all', 'am', 'an',\n",
        "             'and','any','are', 'as', 'at', 'be', 'because', 'been', 'before',\n",
        "             'being', 'below', 'between','both', 'by', 'can', 'd', 'did', 'do',\n",
        "             'does', 'doing', 'down', 'during', 'each','few', 'for', 'from', \n",
        "             'further', 'had', 'has', 'have', 'having', 'he', 'her', 'here',\n",
        "             'hers', 'herself', 'him', 'himself', 'his', 'how', 'i', 'if', 'in',\n",
        "             'into','is', 'it', 'its', 'itself', 'just', 'll', 'm', 'ma',\n",
        "             'me', 'more', 'most','my', 'myself', 'now', 'o', 'of', 'on', 'once',\n",
        "             'only', 'or', 'other', 'our', 'ours','ourselves', 'out', 'own', 're',\n",
        "             's', 'same', 'she', \"shes\", 'should', \"shouldve\",'so', 'some', 'such',\n",
        "             't', 'than', 'that', \"thatll\", 'the', 'their', 'theirs', 'them',\n",
        "             'themselves', 'then', 'there', 'these', 'they', 'this', 'those', \n",
        "             'through', 'to', 'too','under', 'until', 'up', 've', 'very', 'was',\n",
        "             'we', 'were', 'what', 'when', 'where','which','while', 'who', 'whom',\n",
        "             'why', 'will', 'with', 'won', 'y', 'you', \"youd\",\"youll\", \"youre\",\n",
        "             \"youve\", 'your', 'yours', 'yourself', 'yourselves']"
      ]
    },
    {
      "cell_type": "code",
      "execution_count": 82,
      "metadata": {
        "colab": {
          "base_uri": "https://localhost:8080/"
        },
        "id": "xPjiLNPD2uzq",
        "outputId": "f886937c-8bfd-4122-9b65-398ef90580e6"
      },
      "outputs": [
        {
          "output_type": "stream",
          "name": "stdout",
          "text": [
            "[nltk_data] Downloading package wordnet to /root/nltk_data...\n",
            "[nltk_data]   Package wordnet is already up-to-date!\n"
          ]
        }
      ],
      "source": [
        "import re\n",
        "import nltk\n",
        "nltk.download('wordnet')\n",
        "from nltk.stem import WordNetLemmatizer\n",
        "\n",
        "def preprocess(textdata):\n",
        "    processedText = []\n",
        "    \n",
        "    # Create Lemmatizer and Stemmer.\n",
        "    wordLemm = WordNetLemmatizer()\n",
        "    \n",
        "    # Defining regex patterns.\n",
        "    urlPattern        = r\"((http://)[^ ]*|(https://)[^ ]*|( www\\.)[^ ]*)\"\n",
        "    userPattern       = '@[^\\s]+'\n",
        "    alphaPattern      = \"[^a-zA-Z0-9]\"\n",
        "    sequencePattern   = r\"(.)\\1\\1+\"\n",
        "    seqReplacePattern = r\"\\1\\1\"\n",
        "    \n",
        "    for tweet in textdata:\n",
        "        tweet = tweet.lower()\n",
        "        \n",
        "        # Replace all URls with 'URL'\n",
        "        tweet = re.sub(urlPattern,' URL',tweet)\n",
        "        # Replace all emojis.\n",
        "        for emoji in emojis.keys():\n",
        "            tweet = tweet.replace(emoji, \"EMOJI\" + emojis[emoji])        \n",
        "        # Replace @USERNAME to 'USER'.\n",
        "        tweet = re.sub(userPattern,' USER', tweet)        \n",
        "        # Replace all non alphabets.\n",
        "        tweet = re.sub(alphaPattern, \" \", tweet)\n",
        "        # Replace 3 or more consecutive letters by 2 letter.\n",
        "        tweet = re.sub(sequencePattern, seqReplacePattern, tweet)\n",
        "\n",
        "        tweetwords = ''\n",
        "        for word in tweet.split():\n",
        "            # Checking if the word is a stopword.\n",
        "            #if word not in stopwordlist:\n",
        "            if len(word)>1:\n",
        "                # Lemmatizing the word.\n",
        "                word = wordLemm.lemmatize(word)\n",
        "                tweetwords += (word+' ')\n",
        "            \n",
        "        processedText.append(tweetwords)\n",
        "        \n",
        "    return processedText"
      ]
    },
    {
      "cell_type": "code",
      "execution_count": 14,
      "metadata": {
        "id": "xDQT_fOJsbKX"
      },
      "outputs": [],
      "source": [
        "# !wget http://nlp.stanford.edu/data/glove.42B.300d.zip"
      ]
    },
    {
      "cell_type": "code",
      "execution_count": 15,
      "metadata": {
        "id": "-lA3rW0isl_X",
        "colab": {
          "base_uri": "https://localhost:8080/"
        },
        "outputId": "3be042fb-614d-4365-a2d2-b26a3ab18174"
      },
      "outputs": [
        {
          "output_type": "stream",
          "name": "stdout",
          "text": [
            "Archive:  drive/MyDrive/glove.42B.300d.zip\n",
            "  inflating: glove.42B.300d.txt      \n",
            "\n"
          ]
        }
      ],
      "source": [
        "!unzip drive/MyDrive/glove.42B.300d.zip"
      ]
    },
    {
      "cell_type": "code",
      "source": [
        "def load_embeddings(filename):\n",
        "    labels = []\n",
        "    rows = []\n",
        "    result = {}\n",
        "    with open(filename, encoding='utf-8') as infile:\n",
        "        for i, line in tqdm(enumerate(infile)):\n",
        "            items = line.rstrip().split(' ')\n",
        "            if len(items) == 2:\n",
        "                # This is a header row giving the shape of the matrix\n",
        "                continue\n",
        "            labels.append(items[0])\n",
        "            values = np.array([float(x) for x in items[1:]], 'f')\n",
        "            rows.append(values)\n",
        "            result [items[0]] = values\n",
        "    # arr = np.vstack(rows)\n",
        "    return result \n",
        "    # return pd.DataFrame(arr, index=labels, dtype='f')\n",
        "\n",
        "embeddings = load_embeddings('glove.42B.300d.txt')\n",
        "# average = np.mean(vectors , axis = 0)"
      ],
      "metadata": {
        "id": "l79JLDOBUXjw",
        "outputId": "1debc636-6508-4502-ed50-65d58e99801e",
        "colab": {
          "base_uri": "https://localhost:8080/"
        }
      },
      "execution_count": 16,
      "outputs": [
        {
          "output_type": "stream",
          "name": "stderr",
          "text": [
            "1917494it [03:52, 8238.93it/s]\n"
          ]
        }
      ]
    },
    {
      "cell_type": "code",
      "source": [
        "average =  sum(embeddings.values()) / len(embeddings)"
      ],
      "metadata": {
        "id": "DI8VNWn48M02"
      },
      "execution_count": 33,
      "outputs": []
    },
    {
      "cell_type": "code",
      "source": [
        "# SENTIMENT\n",
        "POSITIVE = \"POSITIVE\"\n",
        "NEGATIVE = \"NEGATIVE\"\n",
        "NEUTRAL = \"NEUTRAL\""
      ],
      "metadata": {
        "id": "-N2ylsM67aX2"
      },
      "execution_count": 83,
      "outputs": []
    },
    {
      "cell_type": "code",
      "source": [
        "def decode_sentiment(score):\n",
        "  SENTIMENT_THRESHOLD = 0.5\n",
        "  if score <= SENTIMENT_THRESHOLD:\n",
        "      label = NEGATIVE\n",
        "  elif score >= SENTIMENT_THRESHOLD:\n",
        "      label = POSITIVE\n",
        "  return label"
      ],
      "metadata": {
        "id": "7UZi_FN_7Bfd"
      },
      "execution_count": 84,
      "outputs": []
    },
    {
      "cell_type": "code",
      "source": [
        "def predict(text):\n",
        "    start_at = time.time()\n",
        "    # Tokenize text\n",
        "    x_test = pad_sequences(tokenizer.texts_to_sequences([text]), maxlen=SEQUENCE_LENGTH)\n",
        "    \n",
        "    # Predict\n",
        "    score = model.predict([x_test])[0]\n",
        "    # Decode sentiment\n",
        "    label = decode_sentiment(score )\n",
        "\n",
        "    return {\"label\": label, \"score\": float(score),\n",
        "       \"elapsed_time\": time.time()-start_at}"
      ],
      "metadata": {
        "id": "RP6--tiB7Cfn"
      },
      "execution_count": 85,
      "outputs": []
    },
    {
      "cell_type": "code",
      "execution_count": 37,
      "metadata": {
        "id": "IPmk-lKBt7Nv"
      },
      "outputs": [],
      "source": [
        "# import numpy as np\n",
        "# import pandas as pd\n",
        "# from tqdm import tqdm\n",
        "\n",
        "# def load_embeddings(filename):\n",
        "#     labels = []\n",
        "#     rows = []\n",
        "#     with open(filename, encoding='utf-8') as infile:\n",
        "#         for i, line in tqdm(enumerate(infile)):\n",
        "#             items = line.rstrip().split(' ')\n",
        "#             if len(items) == 2:\n",
        "#                 # This is a header row giving the shape of the matrix\n",
        "#                 continue\n",
        "#             labels.append(items[0])\n",
        "#             values = np.array([float(x) for x in items[1:]], 'f')\n",
        "#             rows.append(values)\n",
        "    \n",
        "#     arr = np.vstack(rows)\n",
        "#     return pd.DataFrame(arr, index=labels, dtype='f')\n",
        "\n",
        "# embeddings = load_embeddings('glove.42B.300d.txt')\n",
        "# embeddings.shape"
      ]
    },
    {
      "cell_type": "code",
      "execution_count": 86,
      "metadata": {
        "id": "U37Och9w3VHK"
      },
      "outputs": [],
      "source": [
        "# columnNames = ['polarity' , 'id' , 'date' , 'query' , 'user', 'text']\n",
        "del testData['id']\n",
        "del testData['date']\n",
        "del testData['query']\n",
        "del testData['user']\n",
        "del trainData ['id']\n",
        "del trainData['date']\n",
        "del trainData['query']\n",
        "del trainData['user']"
      ]
    },
    {
      "cell_type": "code",
      "execution_count": 87,
      "metadata": {
        "colab": {
          "base_uri": "https://localhost:8080/"
        },
        "id": "5rTIcspW5rX5",
        "outputId": "b7def9f0-1cdb-42b4-e761-0b313f6867fd"
      },
      "outputs": [
        {
          "output_type": "execute_result",
          "data": {
            "text/plain": [
              "(358, 2)"
            ]
          },
          "metadata": {},
          "execution_count": 87
        }
      ],
      "source": [
        "testData.shape"
      ]
    },
    {
      "cell_type": "code",
      "execution_count": 88,
      "metadata": {
        "colab": {
          "base_uri": "https://localhost:8080/"
        },
        "id": "Wa6Czw1X5tLb",
        "outputId": "17f055fa-07c3-49ca-bcbf-b3c3d12fe7bf"
      },
      "outputs": [
        {
          "output_type": "execute_result",
          "data": {
            "text/plain": [
              "(1599999, 2)"
            ]
          },
          "metadata": {},
          "execution_count": 88
        }
      ],
      "source": [
        "trainData.shape"
      ]
    },
    {
      "cell_type": "code",
      "execution_count": 89,
      "metadata": {
        "id": "7UUpUi7X6HRq"
      },
      "outputs": [],
      "source": [
        "# ax = trainData.groupby('polarity').count().plot(kind='bar', title='Distribution of train data',\n",
        "#                                                legend=False)\n",
        "# ax.set_xticklabels(['Negative','Positive'], rotation=0)"
      ]
    },
    {
      "cell_type": "code",
      "execution_count": 90,
      "metadata": {
        "id": "GFpwvahX580W"
      },
      "outputs": [],
      "source": [
        "# ax = testData.groupby('polarity').count().plot(kind='bar', title='Distribution of test data',\n",
        "#                                                legend=False)\n",
        "# ax.set_xticklabels(['Negative','Positive'], rotation=0)"
      ]
    },
    {
      "cell_type": "code",
      "execution_count": 91,
      "metadata": {
        "id": "OEbvbSWE6FLy"
      },
      "outputs": [],
      "source": [
        "text, sentiment = list(trainData['text']), list(trainData['polarity'])"
      ]
    },
    {
      "cell_type": "code",
      "source": [
        "test_text, test_sentiment = list(testData['text']), list(testData['polarity'])"
      ],
      "metadata": {
        "id": "JhTZQPdktg2g"
      },
      "execution_count": 92,
      "outputs": []
    },
    {
      "cell_type": "code",
      "source": [
        "del trainData \n",
        "del testData"
      ],
      "metadata": {
        "id": "Zzfd-M_gc1zM"
      },
      "execution_count": 93,
      "outputs": []
    },
    {
      "cell_type": "code",
      "execution_count": 94,
      "metadata": {
        "colab": {
          "base_uri": "https://localhost:8080/"
        },
        "id": "P-8uy7fo7Ezu",
        "outputId": "d16f4926-2e5d-4a6b-a88c-7e5a3297c733"
      },
      "outputs": [
        {
          "output_type": "stream",
          "name": "stdout",
          "text": [
            "Text Preprocessing complete.\n",
            "Time Taken: 152 seconds\n"
          ]
        }
      ],
      "source": [
        "import time\n",
        "t = time.time()\n",
        "processedtext = preprocess(text)\n",
        "print(f'Text Preprocessing complete.')\n",
        "print(f'Time Taken: {round(time.time()-t)} seconds')"
      ]
    },
    {
      "cell_type": "code",
      "source": [
        "t = time.time()\n",
        "processed_test_text = preprocess(test_text)\n",
        "print(f'Text Preprocessing complete.')\n",
        "print(f'Time Taken: {round(time.time()-t)} seconds')"
      ],
      "metadata": {
        "id": "foC4Jmgoto_d",
        "outputId": "cb91a9a5-7f7d-4439-fe74-acf83bf394ac",
        "colab": {
          "base_uri": "https://localhost:8080/"
        }
      },
      "execution_count": 95,
      "outputs": [
        {
          "output_type": "stream",
          "name": "stdout",
          "text": [
            "Text Preprocessing complete.\n",
            "Time Taken: 0 seconds\n"
          ]
        }
      ]
    },
    {
      "cell_type": "code",
      "source": [
        "del t"
      ],
      "metadata": {
        "id": "KGSR8w5IwGgB"
      },
      "execution_count": 96,
      "outputs": []
    },
    {
      "cell_type": "code",
      "source": [
        "%whos"
      ],
      "metadata": {
        "colab": {
          "base_uri": "https://localhost:8080/"
        },
        "id": "esptWXoNvMlM",
        "outputId": "dc741edf-1b37-4d1c-b7de-6ebb6fdc4c51"
      },
      "execution_count": 70,
      "outputs": [
        {
          "output_type": "stream",
          "name": "stdout",
          "text": [
            "Variable                Type         Data/Info\n",
            "----------------------------------------------\n",
            "EMBEDDING_DIM           int          300\n",
            "EarlyStopping           type         <class 'keras.callbacks.EarlyStopping'>\n",
            "Embedding               type         <class 'keras.layers.embeddings.Embedding'>\n",
            "NEGATIVE                str          NEGATIVE\n",
            "NEUTRAL                 str          NEUTRAL\n",
            "POSITIVE                str          POSITIVE\n",
            "ReduceLROnPlateau       type         <class 'keras.callbacks.ReduceLROnPlateau'>\n",
            "SEQUENCE_LENGTH         int          280\n",
            "Tokenizer               type         <class 'keras_preprocessing.text.Tokenizer'>\n",
            "WordCloud               type         <class 'wordcloud.wordcloud.WordCloud'>\n",
            "WordNetLemmatizer       type         <class 'nltk.stem.wordnet.WordNetLemmatizer'>\n",
            "average                 ndarray      300: 300 elems, type `float64`, 2400 bytes\n",
            "columnNames             list         n=6\n",
            "decode_sentiment        function     <function decode_sentiment at 0x7f335aea9dd0>\n",
            "drive                   module       <module 'google.colab.dri<...>s/google/colab/drive.py'>\n",
            "embeddings              dict         n=1917494\n",
            "emojis                  dict         n=32\n",
            "item                    str          happy charitytuesday USER USER USER \n",
            "itertools               module       <module 'itertools' (built-in)>\n",
            "load_embeddings         function     <function load_embeddings at 0x7f3373288d40>\n",
            "maxLength               int          52\n",
            "nltk                    module       <module 'nltk' from '/usr<...>ckages/nltk/__init__.py'>\n",
            "np                      module       <module 'numpy' from '/us<...>kages/numpy/__init__.py'>\n",
            "pad_sequences           function     <function pad_sequences at 0x7f33924c7d40>\n",
            "pad_token               str          <PAD>\n",
            "pd                      module       <module 'pandas' from '/u<...>ages/pandas/__init__.py'>\n",
            "pickle                  module       <module 'pickle' from '/u<...>lib/python3.7/pickle.py'>\n",
            "plot_confusion_matrix   function     <function plot_confusion_<...>matrix at 0x7f3391e43f80>\n",
            "plt                     module       <module 'matplotlib.pyplo<...>es/matplotlib/pyplot.py'>\n",
            "predict                 function     <function predict at 0x7f335aea9560>\n",
            "preprocess              function     <function preprocess at 0x7f337370aa70>\n",
            "processed_test_text     list         n=358\n",
            "processedtext           list         n=1599999\n",
            "re                      module       <module 're' from '/usr/lib/python3.7/re.py'>\n",
            "sentiment               list         n=1599999\n",
            "stopwordlist            list         n=136\n",
            "tf                      module       <module 'tensorflow' from<...>/tensorflow/__init__.py'>\n",
            "time                    module       <module 'time' (built-in)>\n",
            "tokenizer               Tokenizer    <keras_preprocessing.text<...>object at 0x7f3345a87d50>\n",
            "tqdm                    type         <class 'tqdm.std.tqdm'>\n",
            "vocab_size              int          249775\n",
            "vocabulary              dict         n=249775\n",
            "x_test                  ndarray      358x280: 100240 elems, type `int32`, 400960 bytes (391.5625 kb)\n",
            "x_train_                ndarray      1599999x280: 447999720 elems, type `int32`, 1791998880 bytes (1708.9833068847656 Mb)\n"
          ]
        }
      ]
    },
    {
      "cell_type": "code",
      "source": [
        "# del test_sentiment , test_text , text"
      ],
      "metadata": {
        "id": "V_X8i1iwvdeU"
      },
      "execution_count": 58,
      "outputs": []
    },
    {
      "cell_type": "code",
      "source": [
        "maxLength = 0\n",
        "for item in processedtext:\n",
        "  if len(item.split()) > maxLength:\n",
        " \n",
        "    maxLength = len(item.split())\n"
      ],
      "metadata": {
        "id": "LfTCN1clJK5c"
      },
      "execution_count": 59,
      "outputs": []
    },
    {
      "cell_type": "code",
      "source": [
        "tokenizer = Tokenizer( )\n",
        "tokenizer.fit_on_texts(processedtext)"
      ],
      "metadata": {
        "id": "r8YEEmjNw0HN"
      },
      "execution_count": 60,
      "outputs": []
    },
    {
      "cell_type": "code",
      "source": [
        "vocab_size = len(tokenizer.word_index)\n",
        "print(\"Total words\", vocab_size)"
      ],
      "metadata": {
        "colab": {
          "base_uri": "https://localhost:8080/"
        },
        "id": "EmphA7QgHtqc",
        "outputId": "648b6be3-351c-4034-d969-6e3b8bb8c5bc"
      },
      "execution_count": 61,
      "outputs": [
        {
          "output_type": "stream",
          "name": "stdout",
          "text": [
            "Total words 249775\n"
          ]
        }
      ]
    },
    {
      "cell_type": "code",
      "source": [
        "tokenizer.word_index"
      ],
      "metadata": {
        "id": "N5FKwsEJG0c1"
      },
      "execution_count": null,
      "outputs": []
    },
    {
      "cell_type": "code",
      "source": [
        "tokenizer.word_counts"
      ],
      "metadata": {
        "id": "KEfoNPusHRgn"
      },
      "execution_count": null,
      "outputs": []
    },
    {
      "cell_type": "code",
      "source": [
        "vocabulary =  tokenizer.word_index\n",
        "print('Found %s unique tokens.' % len(vocabulary))"
      ],
      "metadata": {
        "id": "2fJyfuxsDpUr",
        "outputId": "8adb7239-8aa1-4779-b6f5-6187f106e91e",
        "colab": {
          "base_uri": "https://localhost:8080/"
        }
      },
      "execution_count": 66,
      "outputs": [
        {
          "output_type": "stream",
          "name": "stdout",
          "text": [
            "Found 249775 unique tokens.\n"
          ]
        }
      ]
    },
    {
      "cell_type": "code",
      "source": [
        "x_train_ = pad_sequences(tokenizer.texts_to_sequences(processedtext), maxlen=SEQUENCE_LENGTH)\n",
        "x_test = pad_sequences(tokenizer.texts_to_sequences(processed_test_text), maxlen=SEQUENCE_LENGTH)"
      ],
      "metadata": {
        "id": "IK2d9_YdxGht"
      },
      "execution_count": 67,
      "outputs": []
    },
    {
      "cell_type": "code",
      "source": [
        "y_test = test_sentiment\n",
        "y_train_ = sentiment"
      ],
      "metadata": {
        "colab": {
          "base_uri": "https://localhost:8080/",
          "height": 182
        },
        "id": "MzL46wsxIU2L",
        "outputId": "4cd025e1-59ab-448f-86c7-f8fdc0b056b3"
      },
      "execution_count": 68,
      "outputs": [
        {
          "output_type": "error",
          "ename": "NameError",
          "evalue": "ignored",
          "traceback": [
            "\u001b[0;31m---------------------------------------------------------------------------\u001b[0m",
            "\u001b[0;31mNameError\u001b[0m                                 Traceback (most recent call last)",
            "\u001b[0;32m<ipython-input-68-ae3f9e81f248>\u001b[0m in \u001b[0;36m<module>\u001b[0;34m()\u001b[0m\n\u001b[0;32m----> 1\u001b[0;31m \u001b[0my_test\u001b[0m \u001b[0;34m=\u001b[0m \u001b[0mtest_sentiment\u001b[0m\u001b[0;34m\u001b[0m\u001b[0;34m\u001b[0m\u001b[0m\n\u001b[0m\u001b[1;32m      2\u001b[0m \u001b[0my_train_\u001b[0m \u001b[0;34m=\u001b[0m \u001b[0msentiment\u001b[0m\u001b[0;34m\u001b[0m\u001b[0;34m\u001b[0m\u001b[0m\n",
            "\u001b[0;31mNameError\u001b[0m: name 'test_sentiment' is not defined"
          ]
        }
      ]
    },
    {
      "cell_type": "code",
      "source": [
        "del processedtext\n",
        "del processed_test_text"
      ],
      "metadata": {
        "id": "hJgDqbKxv2CG"
      },
      "execution_count": null,
      "outputs": []
    },
    {
      "cell_type": "markdown",
      "source": [
        "Word-Cloud for Negative tweets."
      ],
      "metadata": {
        "id": "1iHjLsGluDGz"
      }
    },
    {
      "cell_type": "code",
      "execution_count": 54,
      "metadata": {
        "id": "a8Iu6k0p8LtQ"
      },
      "outputs": [],
      "source": [
        "# data_neg = processedtext[:800000]\n",
        "# plt.figure(figsize = (20,20))\n",
        "# wc = WordCloud(max_words = 1000 , width = 1600 , height = 800,\n",
        "#                collocations=False).generate(\" \".join(data_neg))\n",
        "# plt.imshow(wc)"
      ]
    },
    {
      "cell_type": "markdown",
      "source": [
        "Word-Cloud for Positive tweets.\n"
      ],
      "metadata": {
        "id": "BqWwnY6Kt_Sb"
      }
    },
    {
      "cell_type": "code",
      "execution_count": 55,
      "metadata": {
        "id": "ODPP-3Vk8OM3"
      },
      "outputs": [],
      "source": [
        "# data_pos = processedtext[800000:]\n",
        "# wc = WordCloud(max_words = 1000 , width = 1600 , height = 800,\n",
        "#               collocations=False).generate(\" \".join(data_pos))\n",
        "# plt.figure(figsize = (20,20))\n",
        "# plt.imshow(wc)"
      ]
    },
    {
      "cell_type": "code",
      "execution_count": 53,
      "metadata": {
        "id": "8xDlDABe85lw",
        "colab": {
          "base_uri": "https://localhost:8080/"
        },
        "outputId": "ca00d007-53d7-45fa-953c-f51cc0ae9715"
      },
      "outputs": [
        {
          "output_type": "stream",
          "name": "stdout",
          "text": [
            "Data Split done.\n"
          ]
        }
      ],
      "source": [
        "from sklearn.model_selection import train_test_split\n",
        "\n",
        "X_train, X_validation, Y_train, Y_validation = train_test_split(x_train_, y_train_,test_size = 0.33, random_state = 42  )\n",
        "print(f'Data Split done.')"
      ]
    },
    {
      "cell_type": "code",
      "source": [
        "del x_train_ , y_train_"
      ],
      "metadata": {
        "id": "-GB6g5gkwb1o"
      },
      "execution_count": 54,
      "outputs": []
    },
    {
      "cell_type": "code",
      "source": [
        "len(Y_validation)"
      ],
      "metadata": {
        "id": "fjLcdsUSNFGH",
        "outputId": "57a5da9b-9c3f-4368-cf0b-c021d9240d7b",
        "colab": {
          "base_uri": "https://localhost:8080/"
        }
      },
      "execution_count": 55,
      "outputs": [
        {
          "output_type": "execute_result",
          "data": {
            "text/plain": [
              "528000"
            ]
          },
          "metadata": {},
          "execution_count": 55
        }
      ]
    },
    {
      "cell_type": "code",
      "source": [
        "len(Y_train)"
      ],
      "metadata": {
        "id": "hfqOcJnHLO-J",
        "outputId": "48d6b0ed-f51c-4fd6-ba79-898295a1c5e8",
        "colab": {
          "base_uri": "https://localhost:8080/"
        }
      },
      "execution_count": 56,
      "outputs": [
        {
          "output_type": "execute_result",
          "data": {
            "text/plain": [
              "1071999"
            ]
          },
          "metadata": {},
          "execution_count": 56
        }
      ]
    },
    {
      "cell_type": "code",
      "source": [
        "len(y_test)"
      ],
      "metadata": {
        "id": "8QzDQ4j7LOpD",
        "outputId": "07a9c31a-6f7f-4a3c-f41a-0ce727338cae",
        "colab": {
          "base_uri": "https://localhost:8080/"
        }
      },
      "execution_count": 57,
      "outputs": [
        {
          "output_type": "execute_result",
          "data": {
            "text/plain": [
              "358"
            ]
          },
          "metadata": {},
          "execution_count": 57
        }
      ]
    },
    {
      "cell_type": "code",
      "source": [
        "x_test.shape"
      ],
      "metadata": {
        "id": "J6vQSukrLISC",
        "outputId": "596e067e-96c1-4b01-83ec-2d37686041fe",
        "colab": {
          "base_uri": "https://localhost:8080/"
        }
      },
      "execution_count": 58,
      "outputs": [
        {
          "output_type": "execute_result",
          "data": {
            "text/plain": [
              "(358, 280)"
            ]
          },
          "metadata": {},
          "execution_count": 58
        }
      ]
    },
    {
      "cell_type": "code",
      "source": [
        "X_train.shape"
      ],
      "metadata": {
        "id": "ILrAwI9CDjah",
        "outputId": "eb8a122b-397a-4ac0-d7ef-c2fb650c8573",
        "colab": {
          "base_uri": "https://localhost:8080/"
        }
      },
      "execution_count": 61,
      "outputs": [
        {
          "output_type": "execute_result",
          "data": {
            "text/plain": [
              "(1071999, 280)"
            ]
          },
          "metadata": {},
          "execution_count": 61
        }
      ]
    },
    {
      "cell_type": "code",
      "source": [
        "X_validation.shape"
      ],
      "metadata": {
        "id": "kYPI59UcL4sy",
        "outputId": "eaf092b7-6db1-415d-ff96-0ff4879f84df",
        "colab": {
          "base_uri": "https://localhost:8080/"
        }
      },
      "execution_count": 62,
      "outputs": [
        {
          "output_type": "execute_result",
          "data": {
            "text/plain": [
              "(528000, 280)"
            ]
          },
          "metadata": {},
          "execution_count": 62
        }
      ]
    },
    {
      "cell_type": "code",
      "source": [
        "embedding_matrix = np.zeros((len(vocabulary)+1 , EMBEDDING_DIM))"
      ],
      "metadata": {
        "id": "WnBvczv0QGbK"
      },
      "execution_count": 71,
      "outputs": []
    },
    {
      "cell_type": "code",
      "source": [
        "for word, idx in vocabulary.items():\n",
        "    embedding_vector = embeddings.get(word)\n",
        "    if embedding_vector is not None:\n",
        "        # words not found in embedding index will be all-zeros.\n",
        "        embedding_matrix[idx] = embedding_vector\n",
        "    else:\n",
        "        embedding_matrix[idx] = average\n"
      ],
      "metadata": {
        "id": "TEozOnLa4AXm"
      },
      "execution_count": 72,
      "outputs": []
    },
    {
      "cell_type": "code",
      "source": [
        "adamoptimizer = tf.keras.optimizers.Adam(learning_rate = 0.01)\n",
        "bceloss = tf.keras.losses.binary_crossentropy\n",
        "embedding_layer = Embedding(vocab_size +1,  300 , weights=[embedding_matrix], input_length=SEQUENCE_LENGTH, trainable=False)"
      ],
      "metadata": {
        "id": "FTYJjOfsx0Qt"
      },
      "execution_count": 73,
      "outputs": []
    },
    {
      "cell_type": "code",
      "source": [
        "model = tf.keras.models.Sequential()\n",
        "model.add(embedding_layer)\n",
        "model.add(tf.keras.layers.Dropout(0.5))\n",
        "# model.add(tf.keras.layers.LSTM(150, dropout=0.2, recurrent_dropout=0.2))\n",
        "model.add(tf.keras.layers.LSTM(150 , dropout = 0.2))\n",
        "# model.add(tf.keras.layers.Dense(3, activation='relu'))\n",
        "model.add(tf.keras.layers.Dense(1, activation='sigmoid'))"
      ],
      "metadata": {
        "id": "4Zz1PenNxpwU"
      },
      "execution_count": 90,
      "outputs": []
    },
    {
      "cell_type": "code",
      "source": [
        "my_metrics =['accuracy' , 'Precision' , 'Recall'  ]\n",
        "\n",
        "model.compile( loss = bceloss , optimizer = adamoptimizer , metrics = my_metrics )"
      ],
      "metadata": {
        "id": "Sgp9IGtD4bQd"
      },
      "execution_count": 75,
      "outputs": []
    },
    {
      "cell_type": "code",
      "source": [
        "callbacks = [ ReduceLROnPlateau(monitor='val_loss', patience=3, cooldown=0),\n",
        "              EarlyStopping(monitor='val_accuracy', min_delta=1e-4, patience=5)]"
      ],
      "metadata": {
        "id": "xTsp8ySg4sMp"
      },
      "execution_count": 76,
      "outputs": []
    },
    {
      "cell_type": "code",
      "source": [
        "BATCH_SIZE = 1024\n",
        "EPOCHS = 3"
      ],
      "metadata": {
        "id": "9OXd7HBc44L-"
      },
      "execution_count": 77,
      "outputs": []
    },
    {
      "cell_type": "code",
      "source": [
        "history = model.fit(X_train, np.array(Y_train),\n",
        "                    batch_size=BATCH_SIZE,\n",
        "                    epochs=EPOCHS,\n",
        "                    validation_data = (X_validation , np.array(Y_validation)),\n",
        "                    verbose=1,\n",
        "                    callbacks=callbacks  )"
      ],
      "metadata": {
        "id": "9yltoGen4wQs",
        "outputId": "4c40c390-d394-4f9a-8776-94c0e853f080",
        "colab": {
          "base_uri": "https://localhost:8080/"
        }
      },
      "execution_count": 78,
      "outputs": [
        {
          "output_type": "stream",
          "name": "stdout",
          "text": [
            "Epoch 1/3\n",
            "1047/1047 [==============================] - 509s 483ms/step - loss: 0.4736 - accuracy: 0.7713 - precision: 0.7740 - recall: 0.7658 - val_loss: 0.4166 - val_accuracy: 0.8081 - val_precision: 0.8261 - val_recall: 0.7817 - lr: 0.0100\n",
            "Epoch 2/3\n",
            "1047/1047 [==============================] - 506s 483ms/step - loss: 0.4436 - accuracy: 0.7912 - precision: 0.7937 - recall: 0.7861 - val_loss: 0.4093 - val_accuracy: 0.8125 - val_precision: 0.8152 - val_recall: 0.8094 - lr: 0.0100\n",
            "Epoch 3/3\n",
            "1047/1047 [==============================] - 505s 483ms/step - loss: 0.4384 - accuracy: 0.7947 - precision: 0.7968 - recall: 0.7905 - val_loss: 0.4097 - val_accuracy: 0.8133 - val_precision: 0.8430 - val_recall: 0.7712 - lr: 0.0100\n"
          ]
        }
      ]
    },
    {
      "cell_type": "code",
      "source": [
        "model.save('unidirectional_lstm.h5')"
      ],
      "metadata": {
        "id": "uKHS7kfSa_d2"
      },
      "execution_count": 79,
      "outputs": []
    },
    {
      "cell_type": "code",
      "source": [
        "score = model.evaluate(x_test, np.array(y_test))\n",
        "print(\"ACCURACY:\",score[1])\n",
        "print(\"LOSS:\",score[0])"
      ],
      "metadata": {
        "id": "KHXi2P0-5U3p",
        "colab": {
          "base_uri": "https://localhost:8080/"
        },
        "outputId": "48fea9b1-41b2-46e5-b453-da7002a946b1"
      },
      "execution_count": null,
      "outputs": [
        {
          "output_type": "stream",
          "name": "stdout",
          "text": [
            "12/12 [==============================] - 0s 32ms/step - loss: 0.3611 - accuracy: 0.8352 - precision: 0.8280 - recall: 0.8508\n",
            "ACCURACY: 0.8351955413818359\n",
            "LOSS: 0.3611264228820801\n"
          ]
        }
      ]
    },
    {
      "cell_type": "code",
      "source": [
        "acc = history.history['accuracy']\n",
        "val_acc = history.history['val_accuracy']\n",
        "loss = history.history['loss']\n",
        "val_loss = history.history['val_loss']\n",
        "epochs = range(len(acc))"
      ],
      "metadata": {
        "id": "F12wEo6DH0Xm"
      },
      "execution_count": 80,
      "outputs": []
    },
    {
      "cell_type": "code",
      "source": [
        "plt.figure()\n",
        "plt.grid() \n",
        "plt.plot(epochs, acc, 'b', label='Training acc')\n",
        "plt.plot(epochs, val_acc, 'r', label='Validation acc')\n",
        "plt.title('Training and validation accuracy')\n",
        "plt.legend()\n",
        "plt.show()"
      ],
      "metadata": {
        "id": "4gB_B59D5c47",
        "colab": {
          "base_uri": "https://localhost:8080/",
          "height": 281
        },
        "outputId": "cd17e215-c39e-483c-c444-cef45e19a923"
      },
      "execution_count": 81,
      "outputs": [
        {
          "output_type": "display_data",
          "data": {
            "image/png": "[encoded data removed]",
            "text/plain": [
              "<Figure size 432x288 with 1 Axes>"
            ]
          },
          "metadata": {
            "needs_background": "light"
          }
        }
      ]
    },
    {
      "cell_type": "code",
      "source": [
        "plt.figure()\n",
        "plt.grid() \n",
        "\n",
        "plt.plot(epochs, loss, 'b', label='Training loss')\n",
        "plt.plot(epochs, val_loss, 'r', label='Validation loss')\n",
        "plt.title('Training and validation loss')\n",
        "plt.legend()\n",
        "plt.show()"
      ],
      "metadata": {
        "colab": {
          "base_uri": "https://localhost:8080/",
          "height": 281
        },
        "id": "A4DKDGgWbp0e",
        "outputId": "a9696a20-dff6-4d9d-be8f-1a2028f2d1a5"
      },
      "execution_count": 82,
      "outputs": [
        {
          "output_type": "display_data",
          "data": {
            "image/png": "[encoded data removed]",
            "text/plain": [
              "<Figure size 432x288 with 1 Axes>"
            ]
          },
          "metadata": {
            "needs_background": "light"
          }
        }
      ]
    },
    {
      "cell_type": "code",
      "source": [
        "y_pred_1d = []\n",
        "y_test_1d = y_test\n",
        "scores = model.predict(x_test, verbose=1)\n",
        "# y_pred_1d = [decode_sentiment(score) for score in scores]\n",
        "for score in scores:\n",
        "  if score > 0.5:\n",
        "    y_pred_1d.append(1)\n",
        "  else:\n",
        "    y_pred_1d.append(0)\n",
        "cnf_matrix = tf.math.confusion_matrix(y_test_1d, y_pred_1d)\n",
        "plot_confusion_matrix(np.array(cnf_matrix), classes= [POSITIVE , NEGATIVE ], title=\"Confusion matrix uni-directional lstm\")\n",
        "plt.show()"
      ],
      "metadata": {
        "id": "qhyuOi5v97R3",
        "colab": {
          "base_uri": "https://localhost:8080/",
          "height": 602
        },
        "outputId": "78e85210-ee16-4612-d02d-2be6725b8e75"
      },
      "execution_count": 83,
      "outputs": [
        {
          "output_type": "stream",
          "name": "stdout",
          "text": [
            "12/12 [==============================] - 1s 22ms/step\n"
          ]
        },
        {
          "output_type": "display_data",
          "data": {
            "image/png": "[encoded data removed]",
            "text/plain": [
              "<Figure size 576x576 with 2 Axes>"
            ]
          },
          "metadata": {
            "needs_background": "light"
          }
        }
      ]
    },
    {
      "cell_type": "code",
      "source": [
        "c=0\n",
        "for i in range(len(y_test)):\n",
        "  if y_pred_1d[i] == y_test_1d[i]:\n",
        "    c+=1\n",
        "print(c/len(y_test)*100)"
      ],
      "metadata": {
        "id": "S0ye0MQScDT1",
        "colab": {
          "base_uri": "https://localhost:8080/"
        },
        "outputId": "6120588a-1690-41e0-fe19-1878c880aa15"
      },
      "execution_count": 84,
      "outputs": [
        {
          "output_type": "stream",
          "name": "stdout",
          "text": [
            "80.44692737430168\n"
          ]
        }
      ]
    },
    {
      "cell_type": "markdown",
      "source": [
        "bidirectionalLSTM\n"
      ],
      "metadata": {
        "id": "bhrcQK6-RLU5"
      }
    },
    {
      "cell_type": "code",
      "source": [
        "adamoptimizer = tf.keras.optimizers.Adam(learning_rate = 0.01)\n",
        "bceloss = tf.keras.losses.binary_crossentropy\n",
        "embedding_layer = Embedding(vocab_size +1,  300 , weights=[embedding_matrix], input_length=SEQUENCE_LENGTH, trainable=False)"
      ],
      "metadata": {
        "id": "dxkxMoIy60Uk"
      },
      "execution_count": 100,
      "outputs": []
    },
    {
      "cell_type": "code",
      "source": [
        "bi_model = tf.keras.models.Sequential()\n",
        "bi_model.add(embedding_layer)\n",
        "bi_model.add(tf.keras.layers.Dropout(0.5))\n",
        "bi_model.add(   tf.keras.layers.Bidirectional (    tf.keras.layers.LSTM(150, dropout=0.2)) )\n",
        "bi_model.add(tf.keras.layers.Dense(1, activation='sigmoid'))\n"
      ],
      "metadata": {
        "id": "RVDv1WafRM0b"
      },
      "execution_count": 101,
      "outputs": []
    },
    {
      "cell_type": "code",
      "source": [
        "my_metrics =['accuracy' , 'Precision' , 'Recall'  ]\n",
        "EPOCHS = 3\n",
        "BATCH_SIZE = 1024\n",
        "bi_model.compile( loss = bceloss , optimizer = adamoptimizer , metrics = my_metrics )"
      ],
      "metadata": {
        "id": "3Xh89EnNRM0b"
      },
      "execution_count": 102,
      "outputs": []
    },
    {
      "cell_type": "code",
      "source": [
        "callbacks = [ ReduceLROnPlateau(monitor='val_loss', patience=3, cooldown=0),\n",
        "              EarlyStopping(monitor='val_accuracy', min_delta=1e-4, patience=5)]"
      ],
      "metadata": {
        "id": "7VwMgOQPRM0b"
      },
      "execution_count": 103,
      "outputs": []
    },
    {
      "cell_type": "code",
      "source": [
        "history = bi_model.fit(X_train, np.array(Y_train),\n",
        "                    batch_size=BATCH_SIZE,\n",
        "                    epochs=EPOCHS,\n",
        "                    validation_data = (X_validation , np.array(Y_validation)),\n",
        "                    verbose=1,\n",
        "                    callbacks=callbacks  )"
      ],
      "metadata": {
        "id": "IKzUjq3WRM0c",
        "outputId": "2d529d99-0492-451d-d2bd-d326b0313230",
        "colab": {
          "base_uri": "https://localhost:8080/",
          "height": 449
        }
      },
      "execution_count": 104,
      "outputs": [
        {
          "output_type": "stream",
          "name": "stdout",
          "text": [
            "Epoch 1/3\n",
            "1047/1047 [==============================] - 1018s 969ms/step - loss: 0.4717 - accuracy: 0.7720 - precision: 0.7755 - recall: 0.7647 - val_loss: 0.4176 - val_accuracy: 0.8080 - val_precision: 0.8296 - val_recall: 0.7764 - lr: 0.0100\n",
            "Epoch 2/3\n",
            "1047/1047 [==============================] - 1009s 964ms/step - loss: 0.4433 - accuracy: 0.7910 - precision: 0.7932 - recall: 0.7866 - val_loss: 0.4165 - val_accuracy: 0.8116 - val_precision: 0.8316 - val_recall: 0.7826 - lr: 0.0100\n",
            "Epoch 3/3\n",
            " 599/1047 [================>.............] - ETA: 6:19 - loss: 0.4393 - accuracy: 0.7942 - precision: 0.7961 - recall: 0.7906"
          ]
        },
        {
          "output_type": "error",
          "ename": "KeyboardInterrupt",
          "evalue": "ignored",
          "traceback": [
            "\u001b[0;31m---------------------------------------------------------------------------\u001b[0m",
            "\u001b[0;31mKeyboardInterrupt\u001b[0m                         Traceback (most recent call last)",
            "\u001b[0;32m<ipython-input-104-5b7372b6c2a2>\u001b[0m in \u001b[0;36m<module>\u001b[0;34m()\u001b[0m\n\u001b[1;32m      4\u001b[0m                     \u001b[0mvalidation_data\u001b[0m \u001b[0;34m=\u001b[0m \u001b[0;34m(\u001b[0m\u001b[0mX_validation\u001b[0m \u001b[0;34m,\u001b[0m \u001b[0mnp\u001b[0m\u001b[0;34m.\u001b[0m\u001b[0marray\u001b[0m\u001b[0;34m(\u001b[0m\u001b[0mY_validation\u001b[0m\u001b[0;34m)\u001b[0m\u001b[0;34m)\u001b[0m\u001b[0;34m,\u001b[0m\u001b[0;34m\u001b[0m\u001b[0;34m\u001b[0m\u001b[0m\n\u001b[1;32m      5\u001b[0m                     \u001b[0mverbose\u001b[0m\u001b[0;34m=\u001b[0m\u001b[0;36m1\u001b[0m\u001b[0;34m,\u001b[0m\u001b[0;34m\u001b[0m\u001b[0;34m\u001b[0m\u001b[0m\n\u001b[0;32m----> 6\u001b[0;31m                     callbacks=callbacks  )\n\u001b[0m",
            "\u001b[0;32m/usr/local/lib/python3.7/dist-packages/keras/utils/traceback_utils.py\u001b[0m in \u001b[0;36merror_handler\u001b[0;34m(*args, **kwargs)\u001b[0m\n\u001b[1;32m     62\u001b[0m     \u001b[0mfiltered_tb\u001b[0m \u001b[0;34m=\u001b[0m \u001b[0;32mNone\u001b[0m\u001b[0;34m\u001b[0m\u001b[0;34m\u001b[0m\u001b[0m\n\u001b[1;32m     63\u001b[0m     \u001b[0;32mtry\u001b[0m\u001b[0;34m:\u001b[0m\u001b[0;34m\u001b[0m\u001b[0;34m\u001b[0m\u001b[0m\n\u001b[0;32m---> 64\u001b[0;31m       \u001b[0;32mreturn\u001b[0m \u001b[0mfn\u001b[0m\u001b[0;34m(\u001b[0m\u001b[0;34m*\u001b[0m\u001b[0margs\u001b[0m\u001b[0;34m,\u001b[0m \u001b[0;34m**\u001b[0m\u001b[0mkwargs\u001b[0m\u001b[0;34m)\u001b[0m\u001b[0;34m\u001b[0m\u001b[0;34m\u001b[0m\u001b[0m\n\u001b[0m\u001b[1;32m     65\u001b[0m     \u001b[0;32mexcept\u001b[0m \u001b[0mException\u001b[0m \u001b[0;32mas\u001b[0m \u001b[0me\u001b[0m\u001b[0;34m:\u001b[0m  \u001b[0;31m# pylint: disable=broad-except\u001b[0m\u001b[0;34m\u001b[0m\u001b[0;34m\u001b[0m\u001b[0m\n\u001b[1;32m     66\u001b[0m       \u001b[0mfiltered_tb\u001b[0m \u001b[0;34m=\u001b[0m \u001b[0m_process_traceback_frames\u001b[0m\u001b[0;34m(\u001b[0m\u001b[0me\u001b[0m\u001b[0;34m.\u001b[0m\u001b[0m__traceback__\u001b[0m\u001b[0;34m)\u001b[0m\u001b[0;34m\u001b[0m\u001b[0;34m\u001b[0m\u001b[0m\n",
            "\u001b[0;32m/usr/local/lib/python3.7/dist-packages/keras/engine/training.py\u001b[0m in \u001b[0;36mfit\u001b[0;34m(self, x, y, batch_size, epochs, verbose, callbacks, validation_split, validation_data, shuffle, class_weight, sample_weight, initial_epoch, steps_per_epoch, validation_steps, validation_batch_size, validation_freq, max_queue_size, workers, use_multiprocessing)\u001b[0m\n\u001b[1;32m   1214\u001b[0m                 _r=1):\n\u001b[1;32m   1215\u001b[0m               \u001b[0mcallbacks\u001b[0m\u001b[0;34m.\u001b[0m\u001b[0mon_train_batch_begin\u001b[0m\u001b[0;34m(\u001b[0m\u001b[0mstep\u001b[0m\u001b[0;34m)\u001b[0m\u001b[0;34m\u001b[0m\u001b[0;34m\u001b[0m\u001b[0m\n\u001b[0;32m-> 1216\u001b[0;31m               \u001b[0mtmp_logs\u001b[0m \u001b[0;34m=\u001b[0m \u001b[0mself\u001b[0m\u001b[0;34m.\u001b[0m\u001b[0mtrain_function\u001b[0m\u001b[0;34m(\u001b[0m\u001b[0miterator\u001b[0m\u001b[0;34m)\u001b[0m\u001b[0;34m\u001b[0m\u001b[0;34m\u001b[0m\u001b[0m\n\u001b[0m\u001b[1;32m   1217\u001b[0m               \u001b[0;32mif\u001b[0m \u001b[0mdata_handler\u001b[0m\u001b[0;34m.\u001b[0m\u001b[0mshould_sync\u001b[0m\u001b[0;34m:\u001b[0m\u001b[0;34m\u001b[0m\u001b[0;34m\u001b[0m\u001b[0m\n\u001b[1;32m   1218\u001b[0m                 \u001b[0mcontext\u001b[0m\u001b[0;34m.\u001b[0m\u001b[0masync_wait\u001b[0m\u001b[0;34m(\u001b[0m\u001b[0;34m)\u001b[0m\u001b[0;34m\u001b[0m\u001b[0;34m\u001b[0m\u001b[0m\n",
            "\u001b[0;32m/usr/local/lib/python3.7/dist-packages/tensorflow/python/util/traceback_utils.py\u001b[0m in \u001b[0;36merror_handler\u001b[0;34m(*args, **kwargs)\u001b[0m\n\u001b[1;32m    148\u001b[0m     \u001b[0mfiltered_tb\u001b[0m \u001b[0;34m=\u001b[0m \u001b[0;32mNone\u001b[0m\u001b[0;34m\u001b[0m\u001b[0;34m\u001b[0m\u001b[0m\n\u001b[1;32m    149\u001b[0m     \u001b[0;32mtry\u001b[0m\u001b[0;34m:\u001b[0m\u001b[0;34m\u001b[0m\u001b[0;34m\u001b[0m\u001b[0m\n\u001b[0;32m--> 150\u001b[0;31m       \u001b[0;32mreturn\u001b[0m \u001b[0mfn\u001b[0m\u001b[0;34m(\u001b[0m\u001b[0;34m*\u001b[0m\u001b[0margs\u001b[0m\u001b[0;34m,\u001b[0m \u001b[0;34m**\u001b[0m\u001b[0mkwargs\u001b[0m\u001b[0;34m)\u001b[0m\u001b[0;34m\u001b[0m\u001b[0;34m\u001b[0m\u001b[0m\n\u001b[0m\u001b[1;32m    151\u001b[0m     \u001b[0;32mexcept\u001b[0m \u001b[0mException\u001b[0m \u001b[0;32mas\u001b[0m \u001b[0me\u001b[0m\u001b[0;34m:\u001b[0m\u001b[0;34m\u001b[0m\u001b[0;34m\u001b[0m\u001b[0m\n\u001b[1;32m    152\u001b[0m       \u001b[0mfiltered_tb\u001b[0m \u001b[0;34m=\u001b[0m \u001b[0m_process_traceback_frames\u001b[0m\u001b[0;34m(\u001b[0m\u001b[0me\u001b[0m\u001b[0;34m.\u001b[0m\u001b[0m__traceback__\u001b[0m\u001b[0;34m)\u001b[0m\u001b[0;34m\u001b[0m\u001b[0;34m\u001b[0m\u001b[0m\n",
            "\u001b[0;32m/usr/local/lib/python3.7/dist-packages/tensorflow/python/eager/def_function.py\u001b[0m in \u001b[0;36m__call__\u001b[0;34m(self, *args, **kwds)\u001b[0m\n\u001b[1;32m    908\u001b[0m \u001b[0;34m\u001b[0m\u001b[0m\n\u001b[1;32m    909\u001b[0m       \u001b[0;32mwith\u001b[0m \u001b[0mOptionalXlaContext\u001b[0m\u001b[0;34m(\u001b[0m\u001b[0mself\u001b[0m\u001b[0;34m.\u001b[0m\u001b[0m_jit_compile\u001b[0m\u001b[0;34m)\u001b[0m\u001b[0;34m:\u001b[0m\u001b[0;34m\u001b[0m\u001b[0;34m\u001b[0m\u001b[0m\n\u001b[0;32m--> 910\u001b[0;31m         \u001b[0mresult\u001b[0m \u001b[0;34m=\u001b[0m \u001b[0mself\u001b[0m\u001b[0;34m.\u001b[0m\u001b[0m_call\u001b[0m\u001b[0;34m(\u001b[0m\u001b[0;34m*\u001b[0m\u001b[0margs\u001b[0m\u001b[0;34m,\u001b[0m \u001b[0;34m**\u001b[0m\u001b[0mkwds\u001b[0m\u001b[0;34m)\u001b[0m\u001b[0;34m\u001b[0m\u001b[0;34m\u001b[0m\u001b[0m\n\u001b[0m\u001b[1;32m    911\u001b[0m \u001b[0;34m\u001b[0m\u001b[0m\n\u001b[1;32m    912\u001b[0m       \u001b[0mnew_tracing_count\u001b[0m \u001b[0;34m=\u001b[0m \u001b[0mself\u001b[0m\u001b[0;34m.\u001b[0m\u001b[0mexperimental_get_tracing_count\u001b[0m\u001b[0;34m(\u001b[0m\u001b[0;34m)\u001b[0m\u001b[0;34m\u001b[0m\u001b[0;34m\u001b[0m\u001b[0m\n",
            "\u001b[0;32m/usr/local/lib/python3.7/dist-packages/tensorflow/python/eager/def_function.py\u001b[0m in \u001b[0;36m_call\u001b[0;34m(self, *args, **kwds)\u001b[0m\n\u001b[1;32m    940\u001b[0m       \u001b[0;31m# In this case we have created variables on the first call, so we run the\u001b[0m\u001b[0;34m\u001b[0m\u001b[0;34m\u001b[0m\u001b[0;34m\u001b[0m\u001b[0m\n\u001b[1;32m    941\u001b[0m       \u001b[0;31m# defunned version which is guaranteed to never create variables.\u001b[0m\u001b[0;34m\u001b[0m\u001b[0;34m\u001b[0m\u001b[0;34m\u001b[0m\u001b[0m\n\u001b[0;32m--> 942\u001b[0;31m       \u001b[0;32mreturn\u001b[0m \u001b[0mself\u001b[0m\u001b[0;34m.\u001b[0m\u001b[0m_stateless_fn\u001b[0m\u001b[0;34m(\u001b[0m\u001b[0;34m*\u001b[0m\u001b[0margs\u001b[0m\u001b[0;34m,\u001b[0m \u001b[0;34m**\u001b[0m\u001b[0mkwds\u001b[0m\u001b[0;34m)\u001b[0m  \u001b[0;31m# pylint: disable=not-callable\u001b[0m\u001b[0;34m\u001b[0m\u001b[0;34m\u001b[0m\u001b[0m\n\u001b[0m\u001b[1;32m    943\u001b[0m     \u001b[0;32melif\u001b[0m \u001b[0mself\u001b[0m\u001b[0;34m.\u001b[0m\u001b[0m_stateful_fn\u001b[0m \u001b[0;32mis\u001b[0m \u001b[0;32mnot\u001b[0m \u001b[0;32mNone\u001b[0m\u001b[0;34m:\u001b[0m\u001b[0;34m\u001b[0m\u001b[0;34m\u001b[0m\u001b[0m\n\u001b[1;32m    944\u001b[0m       \u001b[0;31m# Release the lock early so that multiple threads can perform the call\u001b[0m\u001b[0;34m\u001b[0m\u001b[0;34m\u001b[0m\u001b[0;34m\u001b[0m\u001b[0m\n",
            "\u001b[0;32m/usr/local/lib/python3.7/dist-packages/tensorflow/python/eager/function.py\u001b[0m in \u001b[0;36m__call__\u001b[0;34m(self, *args, **kwargs)\u001b[0m\n\u001b[1;32m   3129\u001b[0m        filtered_flat_args) = self._maybe_define_function(args, kwargs)\n\u001b[1;32m   3130\u001b[0m     return graph_function._call_flat(\n\u001b[0;32m-> 3131\u001b[0;31m         filtered_flat_args, captured_inputs=graph_function.captured_inputs)  # pylint: disable=protected-access\n\u001b[0m\u001b[1;32m   3132\u001b[0m \u001b[0;34m\u001b[0m\u001b[0m\n\u001b[1;32m   3133\u001b[0m   \u001b[0;34m@\u001b[0m\u001b[0mproperty\u001b[0m\u001b[0;34m\u001b[0m\u001b[0;34m\u001b[0m\u001b[0m\n",
            "\u001b[0;32m/usr/local/lib/python3.7/dist-packages/tensorflow/python/eager/function.py\u001b[0m in \u001b[0;36m_call_flat\u001b[0;34m(self, args, captured_inputs, cancellation_manager)\u001b[0m\n\u001b[1;32m   1958\u001b[0m       \u001b[0;31m# No tape is watching; skip to running the function.\u001b[0m\u001b[0;34m\u001b[0m\u001b[0;34m\u001b[0m\u001b[0;34m\u001b[0m\u001b[0m\n\u001b[1;32m   1959\u001b[0m       return self._build_call_outputs(self._inference_function.call(\n\u001b[0;32m-> 1960\u001b[0;31m           ctx, args, cancellation_manager=cancellation_manager))\n\u001b[0m\u001b[1;32m   1961\u001b[0m     forward_backward = self._select_forward_and_backward_functions(\n\u001b[1;32m   1962\u001b[0m         \u001b[0margs\u001b[0m\u001b[0;34m,\u001b[0m\u001b[0;34m\u001b[0m\u001b[0;34m\u001b[0m\u001b[0m\n",
            "\u001b[0;32m/usr/local/lib/python3.7/dist-packages/tensorflow/python/eager/function.py\u001b[0m in \u001b[0;36mcall\u001b[0;34m(self, ctx, args, cancellation_manager)\u001b[0m\n\u001b[1;32m    601\u001b[0m               \u001b[0minputs\u001b[0m\u001b[0;34m=\u001b[0m\u001b[0margs\u001b[0m\u001b[0;34m,\u001b[0m\u001b[0;34m\u001b[0m\u001b[0;34m\u001b[0m\u001b[0m\n\u001b[1;32m    602\u001b[0m               \u001b[0mattrs\u001b[0m\u001b[0;34m=\u001b[0m\u001b[0mattrs\u001b[0m\u001b[0;34m,\u001b[0m\u001b[0;34m\u001b[0m\u001b[0;34m\u001b[0m\u001b[0m\n\u001b[0;32m--> 603\u001b[0;31m               ctx=ctx)\n\u001b[0m\u001b[1;32m    604\u001b[0m         \u001b[0;32melse\u001b[0m\u001b[0;34m:\u001b[0m\u001b[0;34m\u001b[0m\u001b[0;34m\u001b[0m\u001b[0m\n\u001b[1;32m    605\u001b[0m           outputs = execute.execute_with_cancellation(\n",
            "\u001b[0;32m/usr/local/lib/python3.7/dist-packages/tensorflow/python/eager/execute.py\u001b[0m in \u001b[0;36mquick_execute\u001b[0;34m(op_name, num_outputs, inputs, attrs, ctx, name)\u001b[0m\n\u001b[1;32m     57\u001b[0m     \u001b[0mctx\u001b[0m\u001b[0;34m.\u001b[0m\u001b[0mensure_initialized\u001b[0m\u001b[0;34m(\u001b[0m\u001b[0;34m)\u001b[0m\u001b[0;34m\u001b[0m\u001b[0;34m\u001b[0m\u001b[0m\n\u001b[1;32m     58\u001b[0m     tensors = pywrap_tfe.TFE_Py_Execute(ctx._handle, device_name, op_name,\n\u001b[0;32m---> 59\u001b[0;31m                                         inputs, attrs, num_outputs)\n\u001b[0m\u001b[1;32m     60\u001b[0m   \u001b[0;32mexcept\u001b[0m \u001b[0mcore\u001b[0m\u001b[0;34m.\u001b[0m\u001b[0m_NotOkStatusException\u001b[0m \u001b[0;32mas\u001b[0m \u001b[0me\u001b[0m\u001b[0;34m:\u001b[0m\u001b[0;34m\u001b[0m\u001b[0;34m\u001b[0m\u001b[0m\n\u001b[1;32m     61\u001b[0m     \u001b[0;32mif\u001b[0m \u001b[0mname\u001b[0m \u001b[0;32mis\u001b[0m \u001b[0;32mnot\u001b[0m \u001b[0;32mNone\u001b[0m\u001b[0;34m:\u001b[0m\u001b[0;34m\u001b[0m\u001b[0;34m\u001b[0m\u001b[0m\n",
            "\u001b[0;31mKeyboardInterrupt\u001b[0m: "
          ]
        }
      ]
    },
    {
      "cell_type": "code",
      "source": [
        "model.save('bidirectional_lstm.h5')"
      ],
      "metadata": {
        "id": "OZlzaSWJgGwI"
      },
      "execution_count": null,
      "outputs": []
    },
    {
      "cell_type": "code",
      "source": [
        "score = model.evaluate(x_test, np.array(y_test))\n",
        "print(\"ACCURACY:\",score[1])\n",
        "print(\"LOSS:\",score[0])"
      ],
      "metadata": {
        "id": "IBjnuKAvgGwI"
      },
      "execution_count": null,
      "outputs": []
    },
    {
      "cell_type": "code",
      "source": [
        "acc = history2.history['accuracy']\n",
        "val_acc = history2.history['val_accuracy']\n",
        "loss = history2.history['loss']\n",
        "val_loss = history2.history['val_loss']\n",
        " \n",
        "epochs = range(len(acc))\n",
        "\n",
        "plt.figure()\n",
        "\n",
        "plt.grid() \n",
        "plt.plot(epochs, acc, 'b', label='Training acc')\n",
        "plt.plot(epochs, val_acc, 'r', label='Validation acc')\n",
        "plt.title('Training and validation accuracy (bidirectional)')\n",
        "plt.legend()\n",
        "plt.show()\n"
      ],
      "metadata": {
        "id": "o_gy79-SgGwJ"
      },
      "execution_count": null,
      "outputs": []
    },
    {
      "cell_type": "code",
      "source": [
        "plt.figure()\n",
        "plt.grid() \n",
        "\n",
        "plt.plot(epochs, loss, 'b', label='Training loss')\n",
        "plt.plot(epochs, val_loss, 'r', label='Validation loss')\n",
        "plt.title('Training and validation loss (bidirectional)')\n",
        "plt.legend()\n",
        "plt.show()"
      ],
      "metadata": {
        "id": "y1YzPeeGgGwJ"
      },
      "execution_count": null,
      "outputs": []
    },
    {
      "cell_type": "code",
      "source": [
        "y_pred_2d = []\n",
        "y_test_2d = Y_test\n",
        "scores = model.predict(x_test, verbose=1).round()\n",
        "y_pred_2d = scores\n",
        "# y_pred_1d = [decode_sentiment(score) for score in scores]\n",
        "# for score in scores:\n",
        "#   if score > 0.5:\n",
        "#     y_pred_1d.append(1)\n",
        "#   else:\n",
        "#     y_pred_1d.append(0)\n",
        "cnf_matrix = tf.math.confusion_matrix(y_test_2d, y_pred_2d)\n",
        "plot_confusion_matrix(np.array(cnf_matrix), classes= [POSITIVE , NEGATIVE ], title=\"Confusion matrix bidirectional lstm\")\n",
        "plt.show()"
      ],
      "metadata": {
        "id": "TKPjsJ1fgGwJ"
      },
      "execution_count": null,
      "outputs": []
    },
    {
      "cell_type": "code",
      "source": [
        "c=0\n",
        "for i in range(len(y_test)):\n",
        "  if y_pred_2d[i] == y_test_2d[i]:\n",
        "    c+=1\n",
        "print(c/len(y_test)*100)"
      ],
      "metadata": {
        "outputId": "30f28414-8e85-456c-f8df-4d480883066d",
        "colab": {
          "base_uri": "https://localhost:8080/"
        },
        "id": "S81NWPk1gGwJ"
      },
      "execution_count": null,
      "outputs": [
        {
          "output_type": "stream",
          "name": "stdout",
          "text": [
            "83.5195530726257\n"
          ]
        }
      ]
    },
    {
      "cell_type": "code",
      "source": [
        "def lstm_cell(num_units, dropout, mode):\n",
        "    cell = tf.nn.rnn_cell.BasicLSTMCell(num_units)\n",
        "\n",
        "    dropout = dropout if mode == tf.estimator.ModeKeys.TRAIN else 0.0\n",
        "\n",
        "    if dropout > 0.0:\n",
        "        cell = tf.nn.rnn_cell.DropoutWrapper(\n",
        "            cell=cell, input_keep_prob=(1.0 - dropout))\n",
        "\n",
        "    return cell\n"
      ],
      "metadata": {
        "id": "E4a5m4OxWJSL"
      },
      "execution_count": null,
      "outputs": []
    },
    {
      "cell_type": "code",
      "source": [
        "def lstm(inputs, sequence_length, num_units, dropout, mode):\n",
        "\n",
        "    with tf.variable_scope('fw_cell'):\n",
        "        forward_cell = lstm_cell(num_units, dropout, mode)\n",
        "    # with tf.variable_scope('bw_cell'):\n",
        "    #     backward_cell = lstm_cell(num_units, dropout, mode)\n",
        "\n",
        "    return tf.nn.dynamic_rnn(\n",
        "        forward_cell,\n",
        "        inputs,\n",
        "        sequence_length=sequence_length,\n",
        "        dtype=tf.float32)\n"
      ],
      "metadata": {
        "id": "1q8gXFqNV7OD"
      },
      "execution_count": null,
      "outputs": []
    },
    {
      "cell_type": "code",
      "source": [
        "def pyramidal_stack(outputs, sequence_length):\n",
        "    shape = tf.shape(outputs)\n",
        "    batch_size, max_time = shape[0], shape[1]\n",
        "    num_units = outputs.get_shape().as_list()[-1]\n",
        "    paddings = [[0, 0], [0, tf.floormod(max_time, 2)], [0, 0]]\n",
        "    outputs = tf.pad(outputs, paddings)\n",
        "\n",
        "    '''\n",
        "    even_time = outputs[:, ::2, :]\n",
        "    odd_time = outputs[:, 1::2, :]\n",
        "    concat_outputs = tf.concat([even_time, odd_time], -1)\n",
        "    '''\n",
        "\n",
        "    concat_outputs = tf.reshape(outputs, (batch_size, -1, num_units * 2))\n",
        "\n",
        "    return concat_outputs, tf.floordiv(sequence_length, 2) + tf.floormod(sequence_length, 2)\n"
      ],
      "metadata": {
        "id": "8lbSGOWomfFj"
      },
      "execution_count": null,
      "outputs": []
    },
    {
      "cell_type": "code",
      "source": [
        "\n",
        "def pyramidal_bilstm(inputs, sequence_length, mode, hparams):\n",
        "\n",
        "    outputs = inputs\n",
        "\n",
        "    for layer in range(4):\n",
        "        with tf.variable_scope('lstm_{}'.format(layer)):\n",
        "            outputs, state = lstm(outputs, sequence_length, hparams.num_units, hparams.dropout, mode)\n",
        "\n",
        "            outputs = tf.concat(outputs, -1)\n",
        "\n",
        "            if layer != 0:\n",
        "                outputs, sequence_length = pyramidal_stack(\n",
        "                    outputs, sequence_length)\n",
        "\n",
        "    return (outputs, sequence_length), state"
      ],
      "metadata": {
        "id": "Bf-UuUZTVin4"
      },
      "execution_count": null,
      "outputs": []
    },
    {
      "cell_type": "code",
      "source": [
        "   hparams = utils.create_hparams(\n",
        "        args, vocab_size, utils.SOS_ID, utils.EOS_ID)"
      ],
      "metadata": {
        "id": "3g16oF6rX2Hq"
      },
      "execution_count": null,
      "outputs": []
    },
    {
      "cell_type": "code",
      "execution_count": null,
      "metadata": {
        "id": "PLJdWtMSptFQ"
      },
      "outputs": [],
      "source": [
        "# TEXT_CLEANING_RE = \"@\\S+|https?:\\S+|http?:\\S|[^A-Za-z0-9]+\"\n",
        "# SENTIMENT_THRESHOLD = 0.5\n"
      ]
    },
    {
      "cell_type": "code",
      "execution_count": null,
      "metadata": {
        "id": "bQWkD3GErxHZ"
      },
      "outputs": [],
      "source": [
        "# KERAS_MODEL = \"model.h5\"\n",
        "# WORD2VEC_MODEL = \"model.w2v\"\n",
        "# TOKENIZER_MODEL = \"tokenizer.pkl\"\n",
        "# ENCODER_MODEL = \"encoder.pkl\""
      ]
    }
  ],
  "metadata": {
    "colab": {
      "collapsed_sections": [],
      "name": "Q1.ipynb",
      "provenance": []
    },
    "kernelspec": {
      "display_name": "Python 3",
      "name": "python3"
    },
    "language_info": {
      "name": "python"
    },
    "accelerator": "GPU"
  },
  "nbformat": 4,
  "nbformat_minor": 0
}