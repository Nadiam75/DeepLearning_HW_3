{
  "cells": [
    {
      "cell_type": "code",
      "source": [
        "from google.colab import drive\n",
        "drive.mount('/content/drive')"
      ],
      "metadata": {
        "colab": {
          "base_uri": "https://localhost:8080/"
        },
        "id": "n1Q-Nag1uUNi",
        "outputId": "e6dd3f21-07d8-4618-f2eb-113328646344"
      },
      "execution_count": 3,
      "outputs": [
        {
          "output_type": "stream",
          "name": "stdout",
          "text": [
            "Drive already mounted at /content/drive; to attempt to forcibly remount, call drive.mount(\"/content/drive\", force_remount=True).\n"
          ]
        }
      ]
    },
    {
      "cell_type": "code",
      "execution_count": 4,
      "metadata": {
        "id": "IpgFUi0sZlIW",
        "outputId": "96a12cef-dac0-4557-fc2a-c734871ba3e1",
        "colab": {
          "base_uri": "https://localhost:8080/"
        }
      },
      "outputs": [
        {
          "output_type": "stream",
          "name": "stdout",
          "text": [
            "Archive:  drive/MyDrive/trainingandtestdata.zip\n",
            "replace testdata.manual.2009.06.14.csv? [y]es, [n]o, [A]ll, [N]one, [r]ename: N\n"
          ]
        }
      ],
      "source": [
        "!unzip drive/MyDrive/trainingandtestdata.zip"
      ]
    },
    {
      "cell_type": "code",
      "source": [
        "import tensorflow as tf"
      ],
      "metadata": {
        "id": "f9ERSzT2yD8Y"
      },
      "execution_count": 56,
      "outputs": []
    },
    {
      "cell_type": "code",
      "source": [
        "from tensorflow.keras.preprocessing.text import Tokenizer\n",
        "from tensorflow.keras.layers import Embedding\n",
        "from tensorflow.keras.preprocessing.sequence import pad_sequences\n",
        "from keras.callbacks import ReduceLROnPlateau, EarlyStopping"
      ],
      "metadata": {
        "id": "9gws4mIww5eK"
      },
      "execution_count": 84,
      "outputs": []
    },
    {
      "cell_type": "code",
      "execution_count": 52,
      "metadata": {
        "id": "5i-hhmXgbI7D"
      },
      "outputs": [],
      "source": [
        "import numpy as np\n",
        "import pandas as pd\n",
        "import pickle\n",
        "from tqdm import tqdm\n",
        "import matplotlib.pyplot as plt\n",
        "import matplotlib.pyplot as plt\n",
        "from wordcloud import WordCloud\n",
        "SEQUENCE_LENGTH = 280\n",
        "pad_token = '<PAD>'\n",
        "EMBEDDING_DIM = 300"
      ]
    },
    {
      "cell_type": "code",
      "source": [
        "import itertools\n",
        "def plot_confusion_matrix(cm, classes, normalize=False, title='Confusion matrix', cmap=plt.cm.BuPu):\n",
        "    \"\"\"\n",
        "    This function prints and plots the confusion matrix.\n",
        "    Normalization can be applied by setting `normalize=True`.\n",
        "    \"\"\"\n",
        "    fig = plt.figure(figsize=(8, 8))\n",
        "    ax = plt.axes()\n",
        "    \n",
        "    ax.xaxis.set_ticks_position('top')\n",
        "    ax.xaxis.set_label_position('top')\n",
        "    plt.imshow(cm, interpolation='nearest', cmap=cmap)\n",
        "    plt.title(title)\n",
        "    plt.colorbar()\n",
        "    tick_marks = np.arange(len(classes))\n",
        "    plt.xticks(tick_marks, classes)\n",
        "    plt.yticks(tick_marks, classes)\n",
        "    if normalize:\n",
        "        cm = cm.astype('float') / cm.sum(axis=1)[:, np.newaxis]\n",
        "\n",
        "    thresh = cm.max() / 2.\n",
        "    for i, j in itertools.product(range(cm.shape[0]), range(cm.shape[1])):\n",
        "        plt.text(j, i, cm[i, j],\n",
        "                 horizontalalignment=\"center\",\n",
        "                 color=\"white\" if cm[i, j] > thresh else \"black\")\n",
        "    plt.tight_layout()\n",
        "    plt.ylabel('True label')\n",
        "    plt.xlabel('Predicted label')"
      ],
      "metadata": {
        "id": "1QZBx75-98fy"
      },
      "execution_count": 2,
      "outputs": []
    },
    {
      "cell_type": "code",
      "execution_count": 3,
      "metadata": {
        "id": "xdeKq2nTbsyX"
      },
      "outputs": [],
      "source": [
        "testData = pd.read_csv('testdata.manual.2009.06.14.csv')\n",
        "trainData = pd.read_csv('training.1600000.processed.noemoticon.csv' ,  encoding='latin-1')"
      ]
    },
    {
      "cell_type": "code",
      "execution_count": 4,
      "metadata": {
        "id": "obrV-bQMfiLk"
      },
      "outputs": [],
      "source": [
        "columnNames = ['polarity' , 'id' , 'date' , 'query' , 'user', 'text']\n",
        "trainData.columns = columnNames\n",
        "testData.columns = columnNames"
      ]
    },
    {
      "cell_type": "code",
      "execution_count": 5,
      "metadata": {
        "id": "IbXT5pf-eK9q"
      },
      "outputs": [],
      "source": [
        "testData = testData.loc[testData[\"polarity\"] != 2]"
      ]
    },
    {
      "cell_type": "code",
      "execution_count": 6,
      "metadata": {
        "id": "L-Vn99T0okWT",
        "outputId": "b7bad631-7682-44d7-fd26-953f7cc34b97",
        "colab": {
          "base_uri": "https://localhost:8080/"
        }
      },
      "outputs": [
        {
          "output_type": "stream",
          "name": "stderr",
          "text": [
            "/usr/local/lib/python3.7/dist-packages/pandas/core/indexing.py:1763: SettingWithCopyWarning: \n",
            "A value is trying to be set on a copy of a slice from a DataFrame.\n",
            "Try using .loc[row_indexer,col_indexer] = value instead\n",
            "\n",
            "See the caveats in the documentation: https://pandas.pydata.org/pandas-docs/stable/user_guide/indexing.html#returning-a-view-versus-a-copy\n",
            "  isetter(loc, value)\n"
          ]
        }
      ],
      "source": [
        "testData.loc[testData['polarity'] == 4, 'polarity'] = 1"
      ]
    },
    {
      "cell_type": "code",
      "execution_count": 7,
      "metadata": {
        "id": "nXeB0urspOvT"
      },
      "outputs": [],
      "source": [
        "trainData.loc[trainData['polarity'] == 4, 'polarity'] = 1"
      ]
    },
    {
      "cell_type": "code",
      "execution_count": 8,
      "metadata": {
        "id": "feT_RESd3tGi"
      },
      "outputs": [],
      "source": [
        "# Defining dictionary containing all emojis with their meanings.\n",
        "emojis = {':)': 'smile', ':-)': 'smile', ';d': 'wink', ':-E': 'vampire', ':(': 'sad', \n",
        "          ':-(': 'sad', ':-<': 'sad', ':P': 'raspberry', ':O': 'surprised',\n",
        "          ':-@': 'shocked', ':@': 'shocked',':-$': 'confused', ':\\\\': 'annoyed', \n",
        "          ':#': 'mute', ':X': 'mute', ':^)': 'smile', ':-&': 'confused', '$_$': 'greedy',\n",
        "          '@@': 'eyeroll', ':-!': 'confused', ':-D': 'smile', ':-0': 'yell', 'O.o': 'confused',\n",
        "          '<(-_-)>': 'robot', 'd[-_-]b': 'dj', \":'-)\": 'sadsmile', ';)': 'wink', \n",
        "          ';-)': 'wink', 'O:-)': 'angel','O*-)': 'angel','(:-D': 'gossip', '=^.^=': 'cat'}\n",
        "\n",
        "## Defining set containing all stopwords in english.\n",
        "stopwordlist = ['a', 'about', 'above', 'after', 'again', 'ain', 'all', 'am', 'an',\n",
        "             'and','any','are', 'as', 'at', 'be', 'because', 'been', 'before',\n",
        "             'being', 'below', 'between','both', 'by', 'can', 'd', 'did', 'do',\n",
        "             'does', 'doing', 'down', 'during', 'each','few', 'for', 'from', \n",
        "             'further', 'had', 'has', 'have', 'having', 'he', 'her', 'here',\n",
        "             'hers', 'herself', 'him', 'himself', 'his', 'how', 'i', 'if', 'in',\n",
        "             'into','is', 'it', 'its', 'itself', 'just', 'll', 'm', 'ma',\n",
        "             'me', 'more', 'most','my', 'myself', 'now', 'o', 'of', 'on', 'once',\n",
        "             'only', 'or', 'other', 'our', 'ours','ourselves', 'out', 'own', 're',\n",
        "             's', 'same', 'she', \"shes\", 'should', \"shouldve\",'so', 'some', 'such',\n",
        "             't', 'than', 'that', \"thatll\", 'the', 'their', 'theirs', 'them',\n",
        "             'themselves', 'then', 'there', 'these', 'they', 'this', 'those', \n",
        "             'through', 'to', 'too','under', 'until', 'up', 've', 'very', 'was',\n",
        "             'we', 'were', 'what', 'when', 'where','which','while', 'who', 'whom',\n",
        "             'why', 'will', 'with', 'won', 'y', 'you', \"youd\",\"youll\", \"youre\",\n",
        "             \"youve\", 'your', 'yours', 'yourself', 'yourselves']"
      ]
    },
    {
      "cell_type": "code",
      "execution_count": 9,
      "metadata": {
        "colab": {
          "base_uri": "https://localhost:8080/"
        },
        "id": "xPjiLNPD2uzq",
        "outputId": "167c0791-9387-47a9-997f-539f597896cc"
      },
      "outputs": [
        {
          "output_type": "stream",
          "name": "stdout",
          "text": [
            "[nltk_data] Downloading package wordnet to /root/nltk_data...\n",
            "[nltk_data]   Package wordnet is already up-to-date!\n"
          ]
        }
      ],
      "source": [
        "import re\n",
        "import nltk\n",
        "nltk.download('wordnet')\n",
        "from nltk.stem import WordNetLemmatizer\n",
        "\n",
        "def preprocess(textdata):\n",
        "    processedText = []\n",
        "    \n",
        "    # Create Lemmatizer and Stemmer.\n",
        "    wordLemm = WordNetLemmatizer()\n",
        "    \n",
        "    # Defining regex patterns.\n",
        "    urlPattern        = r\"((http://)[^ ]*|(https://)[^ ]*|( www\\.)[^ ]*)\"\n",
        "    userPattern       = '@[^\\s]+'\n",
        "    alphaPattern      = \"[^a-zA-Z0-9]\"\n",
        "    sequencePattern   = r\"(.)\\1\\1+\"\n",
        "    seqReplacePattern = r\"\\1\\1\"\n",
        "    \n",
        "    for tweet in textdata:\n",
        "        tweet = tweet.lower()\n",
        "        \n",
        "        # Replace all URls with 'URL'\n",
        "        tweet = re.sub(urlPattern,' URL',tweet)\n",
        "        # Replace all emojis.\n",
        "        for emoji in emojis.keys():\n",
        "            tweet = tweet.replace(emoji, \"EMOJI\" + emojis[emoji])        \n",
        "        # Replace @USERNAME to 'USER'.\n",
        "        tweet = re.sub(userPattern,' USER', tweet)        \n",
        "        # Replace all non alphabets.\n",
        "        tweet = re.sub(alphaPattern, \" \", tweet)\n",
        "        # Replace 3 or more consecutive letters by 2 letter.\n",
        "        tweet = re.sub(sequencePattern, seqReplacePattern, tweet)\n",
        "\n",
        "        tweetwords = ''\n",
        "        for word in tweet.split():\n",
        "            # Checking if the word is a stopword.\n",
        "            #if word not in stopwordlist:\n",
        "            if len(word)>1:\n",
        "                # Lemmatizing the word.\n",
        "                word = wordLemm.lemmatize(word)\n",
        "                tweetwords += (word+' ')\n",
        "            \n",
        "        processedText.append(tweetwords)\n",
        "        \n",
        "    return processedText"
      ]
    },
    {
      "cell_type": "code",
      "execution_count": 10,
      "metadata": {
        "id": "xDQT_fOJsbKX"
      },
      "outputs": [],
      "source": [
        "# !wget http://nlp.stanford.edu/data/glove.42B.300d.zip"
      ]
    },
    {
      "cell_type": "code",
      "execution_count": 11,
      "metadata": {
        "id": "-lA3rW0isl_X"
      },
      "outputs": [],
      "source": [
        "# !unzip drive/MyDrive/glove.42B.300d.zip\n",
        "# !rm glove.42B.300d.zip"
      ]
    },
    {
      "cell_type": "code",
      "source": [
        "def load_embeddings(filename):\n",
        "    labels = []\n",
        "    rows = []\n",
        "    result = {}\n",
        "    with open(filename, encoding='utf-8') as infile:\n",
        "        for i, line in tqdm(enumerate(infile)):\n",
        "            items = line.rstrip().split(' ')\n",
        "            if len(items) == 2:\n",
        "                # This is a header row giving the shape of the matrix\n",
        "                continue\n",
        "            labels.append(items[0])\n",
        "            values = np.array([float(x) for x in items[1:]], 'f')\n",
        "            rows.append(values)\n",
        "            result [items[0]] = values\n",
        "    arr = np.vstack(rows)\n",
        "    return result , arr\n",
        "    # return pd.DataFrame(arr, index=labels, dtype='f')\n",
        "\n",
        "embeddings, vectors = load_embeddings('glove.42B.300d.txt')\n"
      ],
      "metadata": {
        "id": "l79JLDOBUXjw",
        "outputId": "e3217d38-f8c1-4bc6-983a-15dd803fd017",
        "colab": {
          "base_uri": "https://localhost:8080/"
        }
      },
      "execution_count": 12,
      "outputs": [
        {
          "output_type": "stream",
          "name": "stderr",
          "text": [
            "1917494it [03:50, 8305.40it/s]\n"
          ]
        }
      ]
    },
    {
      "cell_type": "code",
      "source": [
        "average = np.mean(vectors , axis = 0)"
      ],
      "metadata": {
        "id": "DI8VNWn48M02"
      },
      "execution_count": 27,
      "outputs": []
    },
    {
      "cell_type": "code",
      "source": [
        "# with open('average.pickle', 'rb') as f:\n",
        "#     average = pickle.load(f)"
      ],
      "metadata": {
        "id": "sCxhkrV1-MuO"
      },
      "execution_count": 28,
      "outputs": []
    },
    {
      "cell_type": "code",
      "source": [
        "# with open('embeddings.pickle', 'rb') as f:\n",
        "#     embeddings = pickle.load(f)"
      ],
      "metadata": {
        "id": "yxurDy_-2wBf"
      },
      "execution_count": 29,
      "outputs": []
    },
    {
      "cell_type": "code",
      "source": [
        "# file = open('average.pickle','wb')\n",
        "# pickle.dump(average, file)\n",
        "# file.close()"
      ],
      "metadata": {
        "id": "FpeVhD9y9_nQ"
      },
      "execution_count": 30,
      "outputs": []
    },
    {
      "cell_type": "code",
      "source": [
        "# file = open('embeddings.pickle','wb')\n",
        "# pickle.dump(embeddings, file)\n",
        "# file.close()"
      ],
      "metadata": {
        "id": "OUBcGhsR-L0h"
      },
      "execution_count": 31,
      "outputs": []
    },
    {
      "cell_type": "code",
      "source": [
        "len(embeddings)"
      ],
      "metadata": {
        "id": "YsT7p3rEXvr1",
        "outputId": "b7524402-5d45-43bf-d96d-c6f887858365",
        "colab": {
          "base_uri": "https://localhost:8080/"
        }
      },
      "execution_count": 32,
      "outputs": [
        {
          "output_type": "execute_result",
          "data": {
            "text/plain": [
              "1917494"
            ]
          },
          "metadata": {},
          "execution_count": 32
        }
      ]
    },
    {
      "cell_type": "code",
      "source": [
        "# import pickle\n",
        "# with open('saved_embeddings.pkl', 'wb') as f:\n",
        "#     pickle.dump(embeddings, f)"
      ],
      "metadata": {
        "id": "N8b-IXDDxpZz"
      },
      "execution_count": 33,
      "outputs": []
    },
    {
      "cell_type": "code",
      "source": [
        "# SENTIMENT\n",
        "POSITIVE = \"POSITIVE\"\n",
        "NEGATIVE = \"NEGATIVE\"\n",
        "NEUTRAL = \"NEUTRAL\""
      ],
      "metadata": {
        "id": "-N2ylsM67aX2"
      },
      "execution_count": 34,
      "outputs": []
    },
    {
      "cell_type": "code",
      "source": [
        "def decode_sentiment(score):\n",
        "  SENTIMENT_THRESHOLD = 0.5\n",
        "  if score <= SENTIMENT_THRESHOLD:\n",
        "      label = NEGATIVE\n",
        "  elif score >= SENTIMENT_THRESHOLD:\n",
        "      label = POSITIVE\n",
        "\n",
        "  return label\n"
      ],
      "metadata": {
        "id": "7UZi_FN_7Bfd"
      },
      "execution_count": 35,
      "outputs": []
    },
    {
      "cell_type": "code",
      "source": [
        "def predict(text):\n",
        "    start_at = time.time()\n",
        "    # Tokenize text\n",
        "    x_test = pad_sequences(tokenizer.texts_to_sequences([text]), maxlen=SEQUENCE_LENGTH)\n",
        "    \n",
        "    # Predict\n",
        "    score = model.predict([x_test])[0]\n",
        "    # Decode sentiment\n",
        "    label = decode_sentiment(score )\n",
        "\n",
        "    return {\"label\": label, \"score\": float(score),\n",
        "       \"elapsed_time\": time.time()-start_at}"
      ],
      "metadata": {
        "id": "RP6--tiB7Cfn"
      },
      "execution_count": 36,
      "outputs": []
    },
    {
      "cell_type": "code",
      "execution_count": 37,
      "metadata": {
        "id": "IPmk-lKBt7Nv"
      },
      "outputs": [],
      "source": [
        "# import numpy as np\n",
        "# import pandas as pd\n",
        "# from tqdm import tqdm\n",
        "\n",
        "# def load_embeddings(filename):\n",
        "#     labels = []\n",
        "#     rows = []\n",
        "#     with open(filename, encoding='utf-8') as infile:\n",
        "#         for i, line in tqdm(enumerate(infile)):\n",
        "#             items = line.rstrip().split(' ')\n",
        "#             if len(items) == 2:\n",
        "#                 # This is a header row giving the shape of the matrix\n",
        "#                 continue\n",
        "#             labels.append(items[0])\n",
        "#             values = np.array([float(x) for x in items[1:]], 'f')\n",
        "#             rows.append(values)\n",
        "    \n",
        "#     arr = np.vstack(rows)\n",
        "#     return pd.DataFrame(arr, index=labels, dtype='f')\n",
        "\n",
        "# embeddings = load_embeddings('glove.42B.300d.txt')\n",
        "# embeddings.shape"
      ]
    },
    {
      "cell_type": "code",
      "source": [
        "# embeddings.head()"
      ],
      "metadata": {
        "id": "D6jO2XvwESEE"
      },
      "execution_count": 38,
      "outputs": []
    },
    {
      "cell_type": "code",
      "source": [
        "(embeddings.get('the')).shape"
      ],
      "metadata": {
        "id": "BU8OdmY6OuxP",
        "outputId": "ce7e0193-83d5-43d6-8503-067960de8752",
        "colab": {
          "base_uri": "https://localhost:8080/"
        }
      },
      "execution_count": 39,
      "outputs": [
        {
          "output_type": "execute_result",
          "data": {
            "text/plain": [
              "(300,)"
            ]
          },
          "metadata": {},
          "execution_count": 39
        }
      ]
    },
    {
      "cell_type": "code",
      "execution_count": 40,
      "metadata": {
        "id": "fmHTqpYFdyeJ"
      },
      "outputs": [],
      "source": [
        "# testData.head()"
      ]
    },
    {
      "cell_type": "code",
      "execution_count": 41,
      "metadata": {
        "id": "JeCFfaqrd_7V"
      },
      "outputs": [],
      "source": [
        "# trainData.head()"
      ]
    },
    {
      "cell_type": "code",
      "execution_count": 42,
      "metadata": {
        "id": "U37Och9w3VHK"
      },
      "outputs": [],
      "source": [
        "# columnNames = ['polarity' , 'id' , 'date' , 'query' , 'user', 'text']\n",
        "del testData['id']\n",
        "del testData['date']\n",
        "del testData['query']\n",
        "del testData['user']\n",
        "del trainData ['id']\n",
        "del trainData['date']\n",
        "del trainData['query']\n",
        "del trainData['user']"
      ]
    },
    {
      "cell_type": "code",
      "execution_count": 43,
      "metadata": {
        "colab": {
          "base_uri": "https://localhost:8080/"
        },
        "id": "5rTIcspW5rX5",
        "outputId": "eb61e712-0115-4d00-fcb9-0d3ff8adaf97"
      },
      "outputs": [
        {
          "output_type": "execute_result",
          "data": {
            "text/plain": [
              "(358, 2)"
            ]
          },
          "metadata": {},
          "execution_count": 43
        }
      ],
      "source": [
        "testData.shape"
      ]
    },
    {
      "cell_type": "code",
      "execution_count": 44,
      "metadata": {
        "colab": {
          "base_uri": "https://localhost:8080/"
        },
        "id": "Wa6Czw1X5tLb",
        "outputId": "095c371b-d3a7-45ea-ba62-da5c6e864832"
      },
      "outputs": [
        {
          "output_type": "execute_result",
          "data": {
            "text/plain": [
              "(1599999, 2)"
            ]
          },
          "metadata": {},
          "execution_count": 44
        }
      ],
      "source": [
        "trainData.shape"
      ]
    },
    {
      "cell_type": "code",
      "execution_count": 45,
      "metadata": {
        "id": "7UUpUi7X6HRq"
      },
      "outputs": [],
      "source": [
        "# ax = trainData.groupby('polarity').count().plot(kind='bar', title='Distribution of train data',\n",
        "#                                                legend=False)\n",
        "# ax.set_xticklabels(['Negative','Positive'], rotation=0)"
      ]
    },
    {
      "cell_type": "code",
      "execution_count": 46,
      "metadata": {
        "id": "GFpwvahX580W"
      },
      "outputs": [],
      "source": [
        "# ax = testData.groupby('polarity').count().plot(kind='bar', title='Distribution of test data',\n",
        "#                                                legend=False)\n",
        "# ax.set_xticklabels(['Negative','Positive'], rotation=0)"
      ]
    },
    {
      "cell_type": "code",
      "execution_count": 47,
      "metadata": {
        "id": "OEbvbSWE6FLy"
      },
      "outputs": [],
      "source": [
        "text, sentiment = list(trainData['text']), list(trainData['polarity'])"
      ]
    },
    {
      "cell_type": "code",
      "source": [
        "test_text, test_sentiment = list(testData['text']), list(testData['polarity'])"
      ],
      "metadata": {
        "id": "JhTZQPdktg2g"
      },
      "execution_count": 48,
      "outputs": []
    },
    {
      "cell_type": "code",
      "execution_count": 49,
      "metadata": {
        "colab": {
          "base_uri": "https://localhost:8080/"
        },
        "id": "P-8uy7fo7Ezu",
        "outputId": "edc7edea-dfb5-4f47-ec07-d4704856b3ab"
      },
      "outputs": [
        {
          "output_type": "stream",
          "name": "stdout",
          "text": [
            "Text Preprocessing complete.\n",
            "Time Taken: 200 seconds\n"
          ]
        }
      ],
      "source": [
        "import time\n",
        "t = time.time()\n",
        "processedtext = preprocess(text)\n",
        "print(f'Text Preprocessing complete.')\n",
        "print(f'Time Taken: {round(time.time()-t)} seconds')"
      ]
    },
    {
      "cell_type": "code",
      "source": [
        "t = time.time()\n",
        "processed_test_text = preprocess(test_text)\n",
        "print(f'Text Preprocessing complete.')\n",
        "print(f'Time Taken: {round(time.time()-t)} seconds')"
      ],
      "metadata": {
        "id": "foC4Jmgoto_d",
        "outputId": "6f813a7d-b3da-48dc-fa08-f9c923f5088a",
        "colab": {
          "base_uri": "https://localhost:8080/"
        }
      },
      "execution_count": 53,
      "outputs": [
        {
          "output_type": "stream",
          "name": "stdout",
          "text": [
            "Text Preprocessing complete.\n",
            "Time Taken: 0 seconds\n"
          ]
        }
      ]
    },
    {
      "cell_type": "code",
      "source": [
        "len(processedtext)"
      ],
      "metadata": {
        "id": "dSEzmggEsRoV",
        "outputId": "5647ad87-10f7-4411-dcd2-bc45ccf26e91",
        "colab": {
          "base_uri": "https://localhost:8080/"
        }
      },
      "execution_count": 54,
      "outputs": [
        {
          "output_type": "execute_result",
          "data": {
            "text/plain": [
              "1599999"
            ]
          },
          "metadata": {},
          "execution_count": 54
        }
      ]
    },
    {
      "cell_type": "code",
      "source": [
        "tokenizer = Tokenizer( )\n",
        "tokenizer.fit_on_texts(processedtext)\n",
        "# sequences = tokenizer.texts_to_sequences(processedtext)\n",
        "vocab_size = len(tokenizer.word_index) + 1\n",
        "print(\"Total words\", vocab_size)\n"
      ],
      "metadata": {
        "id": "r8YEEmjNw0HN",
        "outputId": "213143a3-3196-489e-a669-5fdd0d4b280c",
        "colab": {
          "base_uri": "https://localhost:8080/"
        }
      },
      "execution_count": 58,
      "outputs": [
        {
          "output_type": "stream",
          "name": "stdout",
          "text": [
            "Total words 249776\n"
          ]
        }
      ]
    },
    {
      "cell_type": "code",
      "source": [
        "vocabulary =  tokenizer.word_index\n",
        "print('Found %s unique tokens.' % len(vocabulary))"
      ],
      "metadata": {
        "id": "2fJyfuxsDpUr",
        "outputId": "2133b38d-3dd7-470c-952d-b2160aa3ebc7",
        "colab": {
          "base_uri": "https://localhost:8080/"
        }
      },
      "execution_count": 70,
      "outputs": [
        {
          "output_type": "stream",
          "name": "stdout",
          "text": [
            "Found 249775 unique tokens.\n"
          ]
        }
      ]
    },
    {
      "cell_type": "code",
      "source": [
        "x_train_ = pad_sequences(tokenizer.texts_to_sequences(processedtext), maxlen=SEQUENCE_LENGTH)\n",
        "x_test = pad_sequences(tokenizer.texts_to_sequences(processed_test_text), maxlen=SEQUENCE_LENGTH)\n",
        "y_test = test_sentiment"
      ],
      "metadata": {
        "id": "IK2d9_YdxGht"
      },
      "execution_count": 59,
      "outputs": []
    },
    {
      "cell_type": "markdown",
      "source": [
        "Word-Cloud for Negative tweets."
      ],
      "metadata": {
        "id": "1iHjLsGluDGz"
      }
    },
    {
      "cell_type": "code",
      "execution_count": null,
      "metadata": {
        "id": "a8Iu6k0p8LtQ"
      },
      "outputs": [],
      "source": [
        "# data_neg = processedtext[:800000]\n",
        "# plt.figure(figsize = (20,20))\n",
        "# wc = WordCloud(max_words = 1000 , width = 1600 , height = 800,\n",
        "#                collocations=False).generate(\" \".join(data_neg))\n",
        "# plt.imshow(wc)"
      ]
    },
    {
      "cell_type": "markdown",
      "source": [
        "Word-Cloud for Positive tweets.\n"
      ],
      "metadata": {
        "id": "BqWwnY6Kt_Sb"
      }
    },
    {
      "cell_type": "code",
      "execution_count": null,
      "metadata": {
        "id": "ODPP-3Vk8OM3"
      },
      "outputs": [],
      "source": [
        "# data_pos = processedtext[800000:]\n",
        "# wc = WordCloud(max_words = 1000 , width = 1600 , height = 800,\n",
        "#               collocations=False).generate(\" \".join(data_pos))\n",
        "# plt.figure(figsize = (20,20))\n",
        "# plt.imshow(wc)"
      ]
    },
    {
      "cell_type": "code",
      "execution_count": 60,
      "metadata": {
        "id": "8xDlDABe85lw",
        "colab": {
          "base_uri": "https://localhost:8080/"
        },
        "outputId": "56800ebe-0196-42a5-e975-9bd1b3f3737f"
      },
      "outputs": [
        {
          "output_type": "stream",
          "name": "stdout",
          "text": [
            "Data Split done.\n"
          ]
        }
      ],
      "source": [
        "from sklearn.model_selection import train_test_split\n",
        "\n",
        "X_train, X_validation, Y_train, Y_validation = train_test_split(x_train_, sentiment,test_size = 0.33, random_state = 42  )\n",
        "print(f'Data Split done.')"
      ]
    },
    {
      "cell_type": "code",
      "source": [
        "len(Y_validation)"
      ],
      "metadata": {
        "id": "fjLcdsUSNFGH",
        "outputId": "ec645368-9aa3-4a97-f564-07dea65d6c79",
        "colab": {
          "base_uri": "https://localhost:8080/"
        }
      },
      "execution_count": 61,
      "outputs": [
        {
          "output_type": "execute_result",
          "data": {
            "text/plain": [
              "528000"
            ]
          },
          "metadata": {},
          "execution_count": 61
        }
      ]
    },
    {
      "cell_type": "code",
      "source": [
        "len(Y_train)"
      ],
      "metadata": {
        "id": "hfqOcJnHLO-J",
        "outputId": "72251e42-3384-4e50-87db-eba0c6ad6582",
        "colab": {
          "base_uri": "https://localhost:8080/"
        }
      },
      "execution_count": 62,
      "outputs": [
        {
          "output_type": "execute_result",
          "data": {
            "text/plain": [
              "1071999"
            ]
          },
          "metadata": {},
          "execution_count": 62
        }
      ]
    },
    {
      "cell_type": "code",
      "source": [
        "len(y_test)"
      ],
      "metadata": {
        "id": "8QzDQ4j7LOpD",
        "outputId": "9daf40aa-bf9c-4cbc-81f2-eaecae593946",
        "colab": {
          "base_uri": "https://localhost:8080/"
        }
      },
      "execution_count": 63,
      "outputs": [
        {
          "output_type": "execute_result",
          "data": {
            "text/plain": [
              "358"
            ]
          },
          "metadata": {},
          "execution_count": 63
        }
      ]
    },
    {
      "cell_type": "code",
      "source": [
        "x_test.shape"
      ],
      "metadata": {
        "id": "J6vQSukrLISC",
        "outputId": "3a2655c5-12cd-4efc-9198-3b7bd772f1c7",
        "colab": {
          "base_uri": "https://localhost:8080/"
        }
      },
      "execution_count": 64,
      "outputs": [
        {
          "output_type": "execute_result",
          "data": {
            "text/plain": [
              "(358, 280)"
            ]
          },
          "metadata": {},
          "execution_count": 64
        }
      ]
    },
    {
      "cell_type": "code",
      "source": [
        "x_train_.shape"
      ],
      "metadata": {
        "id": "QxI1dUU2LJ24",
        "outputId": "fa973225-515d-4cea-8fb7-4e64683b64b2",
        "colab": {
          "base_uri": "https://localhost:8080/"
        }
      },
      "execution_count": 66,
      "outputs": [
        {
          "output_type": "execute_result",
          "data": {
            "text/plain": [
              "(1599999, 280)"
            ]
          },
          "metadata": {},
          "execution_count": 66
        }
      ]
    },
    {
      "cell_type": "code",
      "source": [
        "X_train.shape"
      ],
      "metadata": {
        "id": "ILrAwI9CDjah",
        "outputId": "294cc815-6b95-4666-e0fe-4e1ebc0257a9",
        "colab": {
          "base_uri": "https://localhost:8080/"
        }
      },
      "execution_count": 67,
      "outputs": [
        {
          "output_type": "execute_result",
          "data": {
            "text/plain": [
              "(1071999, 280)"
            ]
          },
          "metadata": {},
          "execution_count": 67
        }
      ]
    },
    {
      "cell_type": "code",
      "source": [
        "X_validation.shape"
      ],
      "metadata": {
        "id": "kYPI59UcL4sy",
        "outputId": "0516ce4b-f5c3-4d0e-983a-6ba93bd0e859",
        "colab": {
          "base_uri": "https://localhost:8080/"
        }
      },
      "execution_count": 68,
      "outputs": [
        {
          "output_type": "execute_result",
          "data": {
            "text/plain": [
              "(528000, 280)"
            ]
          },
          "metadata": {},
          "execution_count": 68
        }
      ]
    },
    {
      "cell_type": "code",
      "source": [
        "embedding_matrix = np.zeros((len(vocabulary) + 1, EMBEDDING_DIM))"
      ],
      "metadata": {
        "id": "WnBvczv0QGbK"
      },
      "execution_count": 71,
      "outputs": []
    },
    {
      "cell_type": "code",
      "source": [
        "for word, idx in vocabulary.items():\n",
        "    embedding_vector = embeddings.get(word)\n",
        "    if embedding_vector is not None:\n",
        "        # words not found in embedding index will be all-zeros.\n",
        "        embedding_matrix[idx] = embedding_vector\n",
        "    else:\n",
        "        embedding_matrix[idx] = average\n"
      ],
      "metadata": {
        "id": "TEozOnLa4AXm"
      },
      "execution_count": 75,
      "outputs": []
    },
    {
      "cell_type": "code",
      "source": [
        "adamoptimizer = tf.keras.optimizers.Adam(learning_rate = 0.01)\n",
        "bceloss = tf.keras.losses.binary_crossentropy\n",
        "embedding_layer = Embedding(vocab_size,  300 , weights=[embedding_matrix], input_length=SEQUENCE_LENGTH, trainable=False)"
      ],
      "metadata": {
        "id": "FTYJjOfsx0Qt"
      },
      "execution_count": 76,
      "outputs": []
    },
    {
      "cell_type": "code",
      "source": [
        "model = tf.keras.models.Sequential()\n",
        "model.add(embedding_layer)\n",
        "model.add(tf.keras.layers.Dropout(0.5))\n",
        "# model.add(tf.keras.layers.LSTM(150, dropout=0.2, recurrent_dropout=0.2))\n",
        "model.add(tf.keras.layers.LSTM(150 , dropout = 0.2))\n",
        "# model.add(tf.keras.layers.Dense(3, activation='relu'))\n",
        "model.add(tf.keras.layers.Dense(1, activation='sigmoid'))"
      ],
      "metadata": {
        "id": "4Zz1PenNxpwU"
      },
      "execution_count": null,
      "outputs": []
    },
    {
      "cell_type": "code",
      "source": [
        "my_metrics =['accuracy' , 'Precision' , 'Recall'  ]\n",
        "\n",
        "model.compile( loss = bceloss , optimizer = adamoptimizer , metrics = my_metrics )"
      ],
      "metadata": {
        "id": "Sgp9IGtD4bQd"
      },
      "execution_count": null,
      "outputs": []
    },
    {
      "cell_type": "code",
      "source": [
        ""
      ],
      "metadata": {
        "id": "FlpLai_R4z-R"
      },
      "execution_count": 83,
      "outputs": []
    },
    {
      "cell_type": "code",
      "source": [
        "callbacks = [ ReduceLROnPlateau(monitor='val_loss', patience=3, cooldown=0),\n",
        "              EarlyStopping(monitor='val_accuracy', min_delta=1e-4, patience=5)]"
      ],
      "metadata": {
        "id": "xTsp8ySg4sMp"
      },
      "execution_count": null,
      "outputs": []
    },
    {
      "cell_type": "code",
      "source": [
        "BATCH_SIZE = 1024\n",
        "EPOCHS = 10"
      ],
      "metadata": {
        "id": "9OXd7HBc44L-"
      },
      "execution_count": null,
      "outputs": []
    },
    {
      "cell_type": "code",
      "source": [
        "history = model.fit(X_train, np.array(Y_train),\n",
        "                    batch_size=BATCH_SIZE,\n",
        "                    epochs=EPOCHS,\n",
        "                    validation_data = (X_validation , np.array(Y_validation)),\n",
        "                    verbose=1,\n",
        "                    callbacks=callbacks  )"
      ],
      "metadata": {
        "id": "9yltoGen4wQs",
        "outputId": "f0c20d3e-1c3c-4d9c-f18b-f75922124abe",
        "colab": {
          "base_uri": "https://localhost:8080/"
        }
      },
      "execution_count": null,
      "outputs": [
        {
          "output_type": "stream",
          "name": "stdout",
          "text": [
            "Epoch 1/10\n",
            "1047/1047 [==============================] - ETA: 0s - loss: 0.4668 - accuracy: 0.7749 - precision: 0.7758 - recall: 0.7724WARNING:tensorflow:Early stopping conditioned on metric `val_acc` which is not available. Available metrics are: loss,accuracy,precision,recall,val_loss,val_accuracy,val_precision,val_recall,lr\n",
            "1047/1047 [==============================] - 542s 512ms/step - loss: 0.4668 - accuracy: 0.7749 - precision: 0.7758 - recall: 0.7724 - val_loss: 0.4111 - val_accuracy: 0.8113 - val_precision: 0.8263 - val_recall: 0.7894 - lr: 0.0100\n",
            "Epoch 2/10\n",
            "1047/1047 [==============================] - ETA: 0s - loss: 0.4302 - accuracy: 0.7992 - precision: 0.8013 - recall: 0.7951WARNING:tensorflow:Early stopping conditioned on metric `val_acc` which is not available. Available metrics are: loss,accuracy,precision,recall,val_loss,val_accuracy,val_precision,val_recall,lr\n",
            "1047/1047 [==============================] - 535s 511ms/step - loss: 0.4302 - accuracy: 0.7992 - precision: 0.8013 - recall: 0.7951 - val_loss: 0.4027 - val_accuracy: 0.8170 - val_precision: 0.8348 - val_recall: 0.7916 - lr: 0.0100\n",
            "Epoch 3/10\n",
            "1047/1047 [==============================] - ETA: 0s - loss: 0.4230 - accuracy: 0.8036 - precision: 0.8056 - recall: 0.7995WARNING:tensorflow:Early stopping conditioned on metric `val_acc` which is not available. Available metrics are: loss,accuracy,precision,recall,val_loss,val_accuracy,val_precision,val_recall,lr\n",
            "1047/1047 [==============================] - 529s 506ms/step - loss: 0.4230 - accuracy: 0.8036 - precision: 0.8056 - recall: 0.7995 - val_loss: 0.3977 - val_accuracy: 0.8197 - val_precision: 0.8318 - val_recall: 0.8026 - lr: 0.0100\n",
            "Epoch 4/10\n",
            "1047/1047 [==============================] - ETA: 0s - loss: 0.4193 - accuracy: 0.8059 - precision: 0.8076 - recall: 0.8025WARNING:tensorflow:Early stopping conditioned on metric `val_acc` which is not available. Available metrics are: loss,accuracy,precision,recall,val_loss,val_accuracy,val_precision,val_recall,lr\n",
            "1047/1047 [==============================] - 535s 511ms/step - loss: 0.4193 - accuracy: 0.8059 - precision: 0.8076 - recall: 0.8025 - val_loss: 0.3974 - val_accuracy: 0.8192 - val_precision: 0.8363 - val_recall: 0.7950 - lr: 0.0100\n",
            "Epoch 5/10\n",
            "1047/1047 [==============================] - ETA: 0s - loss: 0.4173 - accuracy: 0.8067 - precision: 0.8087 - recall: 0.8027WARNING:tensorflow:Early stopping conditioned on metric `val_acc` which is not available. Available metrics are: loss,accuracy,precision,recall,val_loss,val_accuracy,val_precision,val_recall,lr\n",
            "1047/1047 [==============================] - 527s 504ms/step - loss: 0.4173 - accuracy: 0.8067 - precision: 0.8087 - recall: 0.8027 - val_loss: 0.3969 - val_accuracy: 0.8207 - val_precision: 0.8237 - val_recall: 0.8173 - lr: 0.0100\n",
            "Epoch 6/10\n",
            "1047/1047 [==============================] - ETA: 0s - loss: 0.4162 - accuracy: 0.8078 - precision: 0.8097 - recall: 0.8041WARNING:tensorflow:Early stopping conditioned on metric `val_acc` which is not available. Available metrics are: loss,accuracy,precision,recall,val_loss,val_accuracy,val_precision,val_recall,lr\n",
            "1047/1047 [==============================] - 530s 506ms/step - loss: 0.4162 - accuracy: 0.8078 - precision: 0.8097 - recall: 0.8041 - val_loss: 0.4000 - val_accuracy: 0.8194 - val_precision: 0.8427 - val_recall: 0.7866 - lr: 0.0100\n",
            "Epoch 7/10\n",
            "1047/1047 [==============================] - ETA: 0s - loss: 0.4156 - accuracy: 0.8077 - precision: 0.8098 - recall: 0.8037WARNING:tensorflow:Early stopping conditioned on metric `val_acc` which is not available. Available metrics are: loss,accuracy,precision,recall,val_loss,val_accuracy,val_precision,val_recall,lr\n",
            "1047/1047 [==============================] - 526s 503ms/step - loss: 0.4156 - accuracy: 0.8077 - precision: 0.8098 - recall: 0.8037 - val_loss: 0.3982 - val_accuracy: 0.8198 - val_precision: 0.8416 - val_recall: 0.7890 - lr: 0.0100\n",
            "Epoch 8/10\n",
            "1047/1047 [==============================] - ETA: 0s - loss: 0.4161 - accuracy: 0.8080 - precision: 0.8101 - recall: 0.8040WARNING:tensorflow:Early stopping conditioned on metric `val_acc` which is not available. Available metrics are: loss,accuracy,precision,recall,val_loss,val_accuracy,val_precision,val_recall,lr\n",
            "1047/1047 [==============================] - 530s 506ms/step - loss: 0.4161 - accuracy: 0.8080 - precision: 0.8101 - recall: 0.8040 - val_loss: 0.3958 - val_accuracy: 0.8221 - val_precision: 0.8250 - val_recall: 0.8187 - lr: 0.0100\n",
            "Epoch 9/10\n",
            "1047/1047 [==============================] - ETA: 0s - loss: 0.4149 - accuracy: 0.8085 - precision: 0.8103 - recall: 0.8050WARNING:tensorflow:Early stopping conditioned on metric `val_acc` which is not available. Available metrics are: loss,accuracy,precision,recall,val_loss,val_accuracy,val_precision,val_recall,lr\n",
            "1047/1047 [==============================] - 525s 501ms/step - loss: 0.4149 - accuracy: 0.8085 - precision: 0.8103 - recall: 0.8050 - val_loss: 0.3947 - val_accuracy: 0.8214 - val_precision: 0.8322 - val_recall: 0.8061 - lr: 0.0100\n",
            "Epoch 10/10\n",
            "1047/1047 [==============================] - ETA: 0s - loss: 0.4148 - accuracy: 0.8085 - precision: 0.8104 - recall: 0.8048WARNING:tensorflow:Early stopping conditioned on metric `val_acc` which is not available. Available metrics are: loss,accuracy,precision,recall,val_loss,val_accuracy,val_precision,val_recall,lr\n",
            "1047/1047 [==============================] - 533s 509ms/step - loss: 0.4148 - accuracy: 0.8085 - precision: 0.8104 - recall: 0.8048 - val_loss: 0.3939 - val_accuracy: 0.8220 - val_precision: 0.8266 - val_recall: 0.8160 - lr: 0.0100\n"
          ]
        }
      ]
    },
    {
      "cell_type": "code",
      "source": [
        "model.save('unidirectional_lstm.h5')"
      ],
      "metadata": {
        "id": "uKHS7kfSa_d2"
      },
      "execution_count": null,
      "outputs": []
    },
    {
      "cell_type": "code",
      "source": [
        "score = model.evaluate(x_test, np.array(y_test))\n",
        "print(\"ACCURACY:\",score[1])\n",
        "print(\"LOSS:\",score[0])"
      ],
      "metadata": {
        "id": "KHXi2P0-5U3p",
        "colab": {
          "base_uri": "https://localhost:8080/"
        },
        "outputId": "48fea9b1-41b2-46e5-b453-da7002a946b1"
      },
      "execution_count": null,
      "outputs": [
        {
          "output_type": "stream",
          "name": "stdout",
          "text": [
            "12/12 [==============================] - 0s 32ms/step - loss: 0.3611 - accuracy: 0.8352 - precision: 0.8280 - recall: 0.8508\n",
            "ACCURACY: 0.8351955413818359\n",
            "LOSS: 0.3611264228820801\n"
          ]
        }
      ]
    },
    {
      "cell_type": "code",
      "source": [
        "acc = history.history['accuracy']\n",
        "val_acc = history.history['val_accuracy']\n",
        "loss = history.history['loss']\n",
        "val_loss = history.history['val_loss']\n",
        "epochs = range(len(acc))"
      ],
      "metadata": {
        "id": "F12wEo6DH0Xm"
      },
      "execution_count": null,
      "outputs": []
    },
    {
      "cell_type": "code",
      "source": [
        "plt.figure()\n",
        "plt.grid() \n",
        "plt.plot(epochs, acc, 'b', label='Training acc')\n",
        "plt.plot(epochs, val_acc, 'r', label='Validation acc')\n",
        "plt.title('Training and validation accuracy')\n",
        "plt.legend()\n",
        "plt.show()"
      ],
      "metadata": {
        "id": "4gB_B59D5c47",
        "colab": {
          "base_uri": "https://localhost:8080/",
          "height": 280
        },
        "outputId": "f837185d-91ae-4b42-bef4-e1336816f1b2"
      },
      "execution_count": null,
      "outputs": [
        {
          "output_type": "display_data",
          "data": {
            "image/png": "[encoded data removed]",
            "text/plain": [
              "<Figure size 432x288 with 1 Axes>"
            ]
          },
          "metadata": {
            "needs_background": "light"
          }
        }
      ]
    },
    {
      "cell_type": "code",
      "source": [
        "plt.figure()\n",
        "plt.grid() \n",
        "\n",
        "plt.plot(epochs, loss, 'b', label='Training loss')\n",
        "plt.plot(epochs, val_loss, 'r', label='Validation loss')\n",
        "plt.title('Training and validation loss')\n",
        "plt.legend()\n",
        "plt.show()"
      ],
      "metadata": {
        "colab": {
          "base_uri": "https://localhost:8080/",
          "height": 280
        },
        "id": "A4DKDGgWbp0e",
        "outputId": "e1f3ab30-5e89-4b37-af7c-34f87fd99596"
      },
      "execution_count": null,
      "outputs": [
        {
          "output_type": "display_data",
          "data": {
            "image/png": "[encoded data removed]",
            "text/plain": [
              "<Figure size 432x288 with 1 Axes>"
            ]
          },
          "metadata": {
            "needs_background": "light"
          }
        }
      ]
    },
    {
      "cell_type": "code",
      "source": [
        "y_pred_1d = []\n",
        "y_test_1d = y_test\n",
        "scores = model.predict(x_test, verbose=1)\n",
        "# y_pred_1d = [decode_sentiment(score) for score in scores]\n",
        "for score in scores:\n",
        "  if score > 0.5:\n",
        "    y_pred_1d.append(1)\n",
        "  else:\n",
        "    y_pred_1d.append(0)\n",
        "cnf_matrix = tf.math.confusion_matrix(y_test_1d, y_pred_1d)\n",
        "plot_confusion_matrix(np.array(cnf_matrix), classes= [POSITIVE , NEGATIVE ], title=\"Confusion matrix uni-directional lstm\")\n",
        "plt.show()"
      ],
      "metadata": {
        "id": "qhyuOi5v97R3",
        "colab": {
          "base_uri": "https://localhost:8080/",
          "height": 619
        },
        "outputId": "79be6d44-3ab5-4d4d-c544-18ce200639d9"
      },
      "execution_count": null,
      "outputs": [
        {
          "output_type": "stream",
          "name": "stdout",
          "text": [
            "12/12 [==============================] - 0s 21ms/step\n"
          ]
        },
        {
          "output_type": "display_data",
          "data": {
            "text/plain": [
              "<Figure size 432x432 with 0 Axes>"
            ]
          },
          "metadata": {}
        },
        {
          "output_type": "display_data",
          "data": {
            "image/png": "[encoded data removed]",
            "text/plain": [
              "<Figure size 576x576 with 2 Axes>"
            ]
          },
          "metadata": {
            "needs_background": "light"
          }
        }
      ]
    },
    {
      "cell_type": "code",
      "source": [
        "c=0\n",
        "for i in range(len(y_test)):\n",
        "  if y_pred_1d[i] == y_test_1d[i]:\n",
        "    c+=1\n",
        "print(c/len(y_test)*100)"
      ],
      "metadata": {
        "id": "S0ye0MQScDT1"
      },
      "execution_count": null,
      "outputs": []
    },
    {
      "cell_type": "markdown",
      "source": [
        "bidirectionalLSTM\n"
      ],
      "metadata": {
        "id": "bhrcQK6-RLU5"
      }
    },
    {
      "cell_type": "code",
      "source": [
        "bi_model = tf.keras.models.Sequential()\n",
        "bi_model.add(embedding_layer)\n",
        "bi_model.add(tf.keras.layers.Dropout(0.5))\n",
        "bi_model.add(tf.keras.layers.LSTM(150, dropout=0.2))\n",
        "bi_model.add(tf.keras.layers.Dense(1, activation='sigmoid'))"
      ],
      "metadata": {
        "id": "RVDv1WafRM0b"
      },
      "execution_count": 80,
      "outputs": []
    },
    {
      "cell_type": "code",
      "source": [
        "my_metrics =['accuracy' , 'Precision' , 'Recall'  ]\n",
        "EPOCHS = 10\n",
        "BATCH_SIZE = 1024\n",
        "bi_model.compile( loss = bceloss , optimizer = adamoptimizer , metrics = my_metrics )"
      ],
      "metadata": {
        "id": "3Xh89EnNRM0b"
      },
      "execution_count": 88,
      "outputs": []
    },
    {
      "cell_type": "code",
      "source": [
        "callbacks = [ ReduceLROnPlateau(monitor='val_loss', patience=3, cooldown=0),\n",
        "              EarlyStopping(monitor='val_accuracy', min_delta=1e-4, patience=5)]"
      ],
      "metadata": {
        "id": "7VwMgOQPRM0b"
      },
      "execution_count": 89,
      "outputs": []
    },
    {
      "cell_type": "code",
      "source": [
        "history2 = bi_model.fit(X_train, np.array(Y_train),\n",
        "                    batch_size=BATCH_SIZE,\n",
        "                    epochs=EPOCHS,\n",
        "                    validation_data = (X_validation , np.array(Y_validation)),\n",
        "                    verbose=1,\n",
        "                    callbacks=callbacks  )"
      ],
      "metadata": {
        "id": "IKzUjq3WRM0c",
        "outputId": "4c0df9de-1aca-46d6-9813-6a2a17d36e07",
        "colab": {
          "base_uri": "https://localhost:8080/"
        }
      },
      "execution_count": 90,
      "outputs": [
        {
          "output_type": "stream",
          "name": "stdout",
          "text": [
            "Epoch 1/10\n",
            "1047/1047 [==============================] - 520s 491ms/step - loss: 0.4720 - accuracy: 0.7725 - precision: 0.7758 - recall: 0.7656 - val_loss: 0.4176 - val_accuracy: 0.8076 - val_precision: 0.8362 - val_recall: 0.7663 - lr: 0.0100\n",
            "Epoch 2/10\n",
            "1047/1047 [==============================] - 515s 492ms/step - loss: 0.4424 - accuracy: 0.7922 - precision: 0.7942 - recall: 0.7881 - val_loss: 0.4087 - val_accuracy: 0.8139 - val_precision: 0.8288 - val_recall: 0.7925 - lr: 0.0100\n",
            "Epoch 3/10\n",
            "1047/1047 [==============================] - 515s 492ms/step - loss: 0.4369 - accuracy: 0.7953 - precision: 0.7972 - recall: 0.7914 - val_loss: 0.4072 - val_accuracy: 0.8161 - val_precision: 0.8228 - val_recall: 0.8069 - lr: 0.0100\n",
            "Epoch 4/10\n",
            "1047/1047 [==============================] - 517s 494ms/step - loss: 0.4346 - accuracy: 0.7967 - precision: 0.7992 - recall: 0.7917 - val_loss: 0.4127 - val_accuracy: 0.8127 - val_precision: 0.8507 - val_recall: 0.7596 - lr: 0.0100\n",
            "Epoch 5/10\n",
            "1047/1047 [==============================] - 517s 494ms/step - loss: 0.4329 - accuracy: 0.7973 - precision: 0.7996 - recall: 0.7929 - val_loss: 0.4069 - val_accuracy: 0.8152 - val_precision: 0.8415 - val_recall: 0.7780 - lr: 0.0100\n",
            "Epoch 6/10\n",
            "1047/1047 [==============================] - 517s 494ms/step - loss: 0.4316 - accuracy: 0.7985 - precision: 0.8005 - recall: 0.7944 - val_loss: 0.4065 - val_accuracy: 0.8157 - val_precision: 0.8379 - val_recall: 0.7840 - lr: 0.0100\n",
            "Epoch 7/10\n",
            "1047/1047 [==============================] - 514s 491ms/step - loss: 0.4311 - accuracy: 0.7987 - precision: 0.8006 - recall: 0.7949 - val_loss: 0.4032 - val_accuracy: 0.8161 - val_precision: 0.8396 - val_recall: 0.7828 - lr: 0.0100\n",
            "Epoch 8/10\n",
            "1047/1047 [==============================] - 514s 491ms/step - loss: 0.4310 - accuracy: 0.7984 - precision: 0.8005 - recall: 0.7944 - val_loss: 0.4027 - val_accuracy: 0.8174 - val_precision: 0.8345 - val_recall: 0.7929 - lr: 0.0100\n",
            "Epoch 9/10\n",
            "1047/1047 [==============================] - 512s 489ms/step - loss: 0.4301 - accuracy: 0.7995 - precision: 0.8018 - recall: 0.7948 - val_loss: 0.4044 - val_accuracy: 0.8163 - val_precision: 0.8394 - val_recall: 0.7833 - lr: 0.0100\n",
            "Epoch 10/10\n",
            "1047/1047 [==============================] - 515s 492ms/step - loss: 0.4296 - accuracy: 0.7998 - precision: 0.8020 - recall: 0.7954 - val_loss: 0.4022 - val_accuracy: 0.8171 - val_precision: 0.8338 - val_recall: 0.7934 - lr: 0.0100\n"
          ]
        }
      ]
    },
    {
      "cell_type": "code",
      "source": [
        "model.save('bidirectional_lstm.h5')"
      ],
      "metadata": {
        "id": "OZlzaSWJgGwI"
      },
      "execution_count": null,
      "outputs": []
    },
    {
      "cell_type": "code",
      "source": [
        "score = model.evaluate(x_test, np.array(y_test))\n",
        "print(\"ACCURACY:\",score[1])\n",
        "print(\"LOSS:\",score[0])"
      ],
      "metadata": {
        "id": "IBjnuKAvgGwI"
      },
      "execution_count": null,
      "outputs": []
    },
    {
      "cell_type": "code",
      "source": [
        "acc = history2.history['accuracy']\n",
        "val_acc = history2.history['val_accuracy']\n",
        "loss = history2.history['loss']\n",
        "val_loss = history2.history['val_loss']\n",
        " \n",
        "epochs = range(len(acc))\n",
        "\n",
        "plt.figure()\n",
        "\n",
        "plt.grid() \n",
        "plt.plot(epochs, acc, 'b', label='Training acc')\n",
        "plt.plot(epochs, val_acc, 'r', label='Validation acc')\n",
        "plt.title('Training and validation accuracy (bidirectional)')\n",
        "plt.legend()\n",
        "plt.show()\n"
      ],
      "metadata": {
        "id": "o_gy79-SgGwJ"
      },
      "execution_count": null,
      "outputs": []
    },
    {
      "cell_type": "code",
      "source": [
        "plt.figure()\n",
        "plt.grid() \n",
        "\n",
        "plt.plot(epochs, loss, 'b', label='Training loss')\n",
        "plt.plot(epochs, val_loss, 'r', label='Validation loss')\n",
        "plt.title('Training and validation loss (bidirectional)')\n",
        "plt.legend()\n",
        "plt.show()"
      ],
      "metadata": {
        "id": "y1YzPeeGgGwJ"
      },
      "execution_count": null,
      "outputs": []
    },
    {
      "cell_type": "code",
      "source": [
        "y_pred_2d = []\n",
        "y_test_2d = Y_test\n",
        "scores = model.predict(x_test, verbose=1)\n",
        "# y_pred_1d = [decode_sentiment(score) for score in scores]\n",
        "for score in scores:\n",
        "  if score > 0.5:\n",
        "    y_pred_1d.append(1)\n",
        "  else:\n",
        "    y_pred_1d.append(0)\n",
        "cnf_matrix = tf.math.confusion_matrix(y_test_2d, y_pred_2d)\n",
        "plot_confusion_matrix(np.array(cnf_matrix), classes= [POSITIVE , NEGATIVE ], title=\"Confusion matrix bidirectional lstm\")\n",
        "plt.show()"
      ],
      "metadata": {
        "id": "TKPjsJ1fgGwJ"
      },
      "execution_count": null,
      "outputs": []
    },
    {
      "cell_type": "code",
      "source": [
        "c=0\n",
        "for i in range(len(y_test)):\n",
        "  if y_pred_2d[i] == y_test_2d[i]:\n",
        "    c+=1\n",
        "print(c/len(y_test)*100)"
      ],
      "metadata": {
        "outputId": "30f28414-8e85-456c-f8df-4d480883066d",
        "colab": {
          "base_uri": "https://localhost:8080/"
        },
        "id": "S81NWPk1gGwJ"
      },
      "execution_count": null,
      "outputs": [
        {
          "output_type": "stream",
          "name": "stdout",
          "text": [
            "83.5195530726257\n"
          ]
        }
      ]
    },
    {
      "cell_type": "code",
      "source": [
        "def lstm_cell(num_units, dropout, mode):\n",
        "    cell = tf.nn.rnn_cell.BasicLSTMCell(num_units)\n",
        "\n",
        "    dropout = dropout if mode == tf.estimator.ModeKeys.TRAIN else 0.0\n",
        "\n",
        "    if dropout > 0.0:\n",
        "        cell = tf.nn.rnn_cell.DropoutWrapper(\n",
        "            cell=cell, input_keep_prob=(1.0 - dropout))\n",
        "\n",
        "    return cell\n"
      ],
      "metadata": {
        "id": "E4a5m4OxWJSL"
      },
      "execution_count": null,
      "outputs": []
    },
    {
      "cell_type": "code",
      "source": [
        "def lstm(inputs, sequence_length, num_units, dropout, mode):\n",
        "\n",
        "    with tf.variable_scope('fw_cell'):\n",
        "        forward_cell = lstm_cell(num_units, dropout, mode)\n",
        "    # with tf.variable_scope('bw_cell'):\n",
        "    #     backward_cell = lstm_cell(num_units, dropout, mode)\n",
        "\n",
        "    return tf.nn.dynamic_rnn(\n",
        "        forward_cell,\n",
        "        inputs,\n",
        "        sequence_length=sequence_length,\n",
        "        dtype=tf.float32)\n"
      ],
      "metadata": {
        "id": "1q8gXFqNV7OD"
      },
      "execution_count": null,
      "outputs": []
    },
    {
      "cell_type": "code",
      "source": [
        "def pyramidal_stack(outputs, sequence_length):\n",
        "    shape = tf.shape(outputs)\n",
        "    batch_size, max_time = shape[0], shape[1]\n",
        "    num_units = outputs.get_shape().as_list()[-1]\n",
        "    paddings = [[0, 0], [0, tf.floormod(max_time, 2)], [0, 0]]\n",
        "    outputs = tf.pad(outputs, paddings)\n",
        "\n",
        "    '''\n",
        "    even_time = outputs[:, ::2, :]\n",
        "    odd_time = outputs[:, 1::2, :]\n",
        "    concat_outputs = tf.concat([even_time, odd_time], -1)\n",
        "    '''\n",
        "\n",
        "    concat_outputs = tf.reshape(outputs, (batch_size, -1, num_units * 2))\n",
        "\n",
        "    return concat_outputs, tf.floordiv(sequence_length, 2) + tf.floormod(sequence_length, 2)\n"
      ],
      "metadata": {
        "id": "8lbSGOWomfFj"
      },
      "execution_count": null,
      "outputs": []
    },
    {
      "cell_type": "code",
      "source": [
        "\n",
        "def pyramidal_bilstm(inputs, sequence_length, mode, hparams):\n",
        "\n",
        "    outputs = inputs\n",
        "\n",
        "    for layer in range(4):\n",
        "        with tf.variable_scope('lstm_{}'.format(layer)):\n",
        "            outputs, state = lstm(outputs, sequence_length, hparams.num_units, hparams.dropout, mode)\n",
        "\n",
        "            outputs = tf.concat(outputs, -1)\n",
        "\n",
        "            if layer != 0:\n",
        "                outputs, sequence_length = pyramidal_stack(\n",
        "                    outputs, sequence_length)\n",
        "\n",
        "    return (outputs, sequence_length), state"
      ],
      "metadata": {
        "id": "Bf-UuUZTVin4"
      },
      "execution_count": null,
      "outputs": []
    },
    {
      "cell_type": "code",
      "source": [
        "   hparams = utils.create_hparams(\n",
        "        args, vocab_size, utils.SOS_ID, utils.EOS_ID)"
      ],
      "metadata": {
        "id": "3g16oF6rX2Hq"
      },
      "execution_count": null,
      "outputs": []
    },
    {
      "cell_type": "code",
      "execution_count": null,
      "metadata": {
        "id": "PLJdWtMSptFQ"
      },
      "outputs": [],
      "source": [
        "# TEXT_CLEANING_RE = \"@\\S+|https?:\\S+|http?:\\S|[^A-Za-z0-9]+\"\n",
        "# SENTIMENT_THRESHOLD = 0.5\n"
      ]
    },
    {
      "cell_type": "code",
      "execution_count": null,
      "metadata": {
        "id": "bQWkD3GErxHZ"
      },
      "outputs": [],
      "source": [
        "# KERAS_MODEL = \"model.h5\"\n",
        "# WORD2VEC_MODEL = \"model.w2v\"\n",
        "# TOKENIZER_MODEL = \"tokenizer.pkl\"\n",
        "# ENCODER_MODEL = \"encoder.pkl\""
      ]
    }
  ],
  "metadata": {
    "colab": {
      "collapsed_sections": [],
      "name": "Q1.ipynb",
      "provenance": []
    },
    "kernelspec": {
      "display_name": "Python 3",
      "name": "python3"
    },
    "language_info": {
      "name": "python"
    }
  },
  "nbformat": 4,
  "nbformat_minor": 0
}